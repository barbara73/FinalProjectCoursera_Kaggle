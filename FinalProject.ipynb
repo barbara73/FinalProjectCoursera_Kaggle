{
 "cells": [
  {
   "cell_type": "markdown",
   "metadata": {},
   "source": [
    "Version 1.0.0,\n",
    "Python 3.6.4,\n",
    "conda 4.4.11"
   ]
  },
  {
   "cell_type": "markdown",
   "metadata": {},
   "source": [
    "This is my first Kaggle Competition project written in a notebook."
   ]
  },
  {
   "cell_type": "markdown",
   "metadata": {},
   "source": [
    "# Final Project: Predict Future Sales"
   ]
  },
  {
   "cell_type": "code",
   "execution_count": 1,
   "metadata": {},
   "outputs": [],
   "source": [
    "import pandas as pd\n",
    "import numpy as np\n",
    "import os\n",
    "import sys\n",
    "import matplotlib.pyplot as plt\n",
    "%matplotlib inline"
   ]
  },
  {
   "cell_type": "markdown",
   "metadata": {},
   "source": [
    "## Getting and Cleaning Data"
   ]
  },
  {
   "cell_type": "markdown",
   "metadata": {},
   "source": [
    "Load data:"
   ]
  },
  {
   "cell_type": "code",
   "execution_count": 2,
   "metadata": {},
   "outputs": [],
   "source": [
    "DATA_FOLDER = 'readonly/final_project_data/'\n",
    "\n",
    "transactions    = pd.read_csv(os.path.join(DATA_FOLDER, 'sales_train.csv'))\n",
    "items           = pd.read_csv(os.path.join(DATA_FOLDER, 'items.csv'))\n",
    "item_categories = pd.read_csv(os.path.join(DATA_FOLDER, 'item_categories.csv'))\n",
    "shops           = pd.read_csv(os.path.join(DATA_FOLDER, 'shops.csv'))\n",
    "\n",
    "test            = pd.read_csv(os.path.join(DATA_FOLDER, 'test.csv'))"
   ]
  },
  {
   "cell_type": "markdown",
   "metadata": {},
   "source": [
    "Look at the data:"
   ]
  },
  {
   "cell_type": "code",
   "execution_count": 3,
   "metadata": {},
   "outputs": [
    {
     "name": "stdout",
     "output_type": "stream",
     "text": [
      "(2935849, 6)\n",
      "(22170, 3)\n",
      "(84, 2)\n",
      "(60, 2)\n",
      "(214200, 3)\n",
      "            ID  shop_id  item_id\n",
      "214195  214195       45    18454\n",
      "214196  214196       45    16188\n",
      "214197  214197       45    15757\n",
      "214198  214198       45    19648\n",
      "214199  214199       45      969\n"
     ]
    }
   ],
   "source": [
    "print(transactions.shape)\n",
    "#print(transactions.tail())\n",
    "\n",
    "print(items.shape)\n",
    "#print(items.head())\n",
    "\n",
    "print(item_categories.shape)\n",
    "#print(item_categories.head())\n",
    "\n",
    "print(shops.shape)\n",
    "#print(shops.head())\n",
    "\n",
    "print(test.shape)\n",
    "print(test.tail())"
   ]
  },
  {
   "cell_type": "markdown",
   "metadata": {},
   "source": [
    "Merge the data:"
   ]
  },
  {
   "cell_type": "code",
   "execution_count": 4,
   "metadata": {},
   "outputs": [
    {
     "data": {
      "text/html": [
       "<div>\n",
       "<style scoped>\n",
       "    .dataframe tbody tr th:only-of-type {\n",
       "        vertical-align: middle;\n",
       "    }\n",
       "\n",
       "    .dataframe tbody tr th {\n",
       "        vertical-align: top;\n",
       "    }\n",
       "\n",
       "    .dataframe thead th {\n",
       "        text-align: right;\n",
       "    }\n",
       "</style>\n",
       "<table border=\"1\" class=\"dataframe\">\n",
       "  <thead>\n",
       "    <tr style=\"text-align: right;\">\n",
       "      <th></th>\n",
       "      <th>date</th>\n",
       "      <th>date_block_num</th>\n",
       "      <th>shop_id</th>\n",
       "      <th>item_id</th>\n",
       "      <th>item_price</th>\n",
       "      <th>item_cnt_day</th>\n",
       "      <th>item_name</th>\n",
       "      <th>item_category_id</th>\n",
       "      <th>item_category_name</th>\n",
       "      <th>shop_name</th>\n",
       "    </tr>\n",
       "  </thead>\n",
       "  <tbody>\n",
       "    <tr>\n",
       "      <th>0</th>\n",
       "      <td>02.01.2013</td>\n",
       "      <td>0</td>\n",
       "      <td>59</td>\n",
       "      <td>22154</td>\n",
       "      <td>999.0</td>\n",
       "      <td>1.0</td>\n",
       "      <td>ЯВЛЕНИЕ 2012 (BD)</td>\n",
       "      <td>37</td>\n",
       "      <td>Кино - Blu-Ray</td>\n",
       "      <td>Ярославль ТЦ \"Альтаир\"</td>\n",
       "    </tr>\n",
       "    <tr>\n",
       "      <th>1</th>\n",
       "      <td>26.04.2013</td>\n",
       "      <td>3</td>\n",
       "      <td>59</td>\n",
       "      <td>944</td>\n",
       "      <td>150.0</td>\n",
       "      <td>1.0</td>\n",
       "      <td>2012 (BD)</td>\n",
       "      <td>37</td>\n",
       "      <td>Кино - Blu-Ray</td>\n",
       "      <td>Ярославль ТЦ \"Альтаир\"</td>\n",
       "    </tr>\n",
       "    <tr>\n",
       "      <th>2</th>\n",
       "      <td>26.06.2013</td>\n",
       "      <td>5</td>\n",
       "      <td>59</td>\n",
       "      <td>944</td>\n",
       "      <td>199.5</td>\n",
       "      <td>1.0</td>\n",
       "      <td>2012 (BD)</td>\n",
       "      <td>37</td>\n",
       "      <td>Кино - Blu-Ray</td>\n",
       "      <td>Ярославль ТЦ \"Альтаир\"</td>\n",
       "    </tr>\n",
       "    <tr>\n",
       "      <th>3</th>\n",
       "      <td>20.07.2013</td>\n",
       "      <td>6</td>\n",
       "      <td>59</td>\n",
       "      <td>944</td>\n",
       "      <td>199.5</td>\n",
       "      <td>1.0</td>\n",
       "      <td>2012 (BD)</td>\n",
       "      <td>37</td>\n",
       "      <td>Кино - Blu-Ray</td>\n",
       "      <td>Ярославль ТЦ \"Альтаир\"</td>\n",
       "    </tr>\n",
       "    <tr>\n",
       "      <th>4</th>\n",
       "      <td>14.09.2013</td>\n",
       "      <td>8</td>\n",
       "      <td>59</td>\n",
       "      <td>944</td>\n",
       "      <td>299.0</td>\n",
       "      <td>2.0</td>\n",
       "      <td>2012 (BD)</td>\n",
       "      <td>37</td>\n",
       "      <td>Кино - Blu-Ray</td>\n",
       "      <td>Ярославль ТЦ \"Альтаир\"</td>\n",
       "    </tr>\n",
       "    <tr>\n",
       "      <th>5</th>\n",
       "      <td>21.10.2013</td>\n",
       "      <td>9</td>\n",
       "      <td>59</td>\n",
       "      <td>944</td>\n",
       "      <td>299.0</td>\n",
       "      <td>1.0</td>\n",
       "      <td>2012 (BD)</td>\n",
       "      <td>37</td>\n",
       "      <td>Кино - Blu-Ray</td>\n",
       "      <td>Ярославль ТЦ \"Альтаир\"</td>\n",
       "    </tr>\n",
       "    <tr>\n",
       "      <th>6</th>\n",
       "      <td>02.11.2013</td>\n",
       "      <td>10</td>\n",
       "      <td>59</td>\n",
       "      <td>944</td>\n",
       "      <td>299.0</td>\n",
       "      <td>1.0</td>\n",
       "      <td>2012 (BD)</td>\n",
       "      <td>37</td>\n",
       "      <td>Кино - Blu-Ray</td>\n",
       "      <td>Ярославль ТЦ \"Альтаир\"</td>\n",
       "    </tr>\n",
       "    <tr>\n",
       "      <th>7</th>\n",
       "      <td>06.01.2014</td>\n",
       "      <td>12</td>\n",
       "      <td>59</td>\n",
       "      <td>944</td>\n",
       "      <td>299.0</td>\n",
       "      <td>1.0</td>\n",
       "      <td>2012 (BD)</td>\n",
       "      <td>37</td>\n",
       "      <td>Кино - Blu-Ray</td>\n",
       "      <td>Ярославль ТЦ \"Альтаир\"</td>\n",
       "    </tr>\n",
       "    <tr>\n",
       "      <th>8</th>\n",
       "      <td>30.03.2014</td>\n",
       "      <td>14</td>\n",
       "      <td>59</td>\n",
       "      <td>944</td>\n",
       "      <td>299.0</td>\n",
       "      <td>1.0</td>\n",
       "      <td>2012 (BD)</td>\n",
       "      <td>37</td>\n",
       "      <td>Кино - Blu-Ray</td>\n",
       "      <td>Ярославль ТЦ \"Альтаир\"</td>\n",
       "    </tr>\n",
       "    <tr>\n",
       "      <th>9</th>\n",
       "      <td>20.04.2014</td>\n",
       "      <td>15</td>\n",
       "      <td>59</td>\n",
       "      <td>944</td>\n",
       "      <td>199.0</td>\n",
       "      <td>1.0</td>\n",
       "      <td>2012 (BD)</td>\n",
       "      <td>37</td>\n",
       "      <td>Кино - Blu-Ray</td>\n",
       "      <td>Ярославль ТЦ \"Альтаир\"</td>\n",
       "    </tr>\n",
       "  </tbody>\n",
       "</table>\n",
       "</div>"
      ],
      "text/plain": [
       "         date  date_block_num  shop_id  item_id  item_price  item_cnt_day  \\\n",
       "0  02.01.2013               0       59    22154       999.0           1.0   \n",
       "1  26.04.2013               3       59      944       150.0           1.0   \n",
       "2  26.06.2013               5       59      944       199.5           1.0   \n",
       "3  20.07.2013               6       59      944       199.5           1.0   \n",
       "4  14.09.2013               8       59      944       299.0           2.0   \n",
       "5  21.10.2013               9       59      944       299.0           1.0   \n",
       "6  02.11.2013              10       59      944       299.0           1.0   \n",
       "7  06.01.2014              12       59      944       299.0           1.0   \n",
       "8  30.03.2014              14       59      944       299.0           1.0   \n",
       "9  20.04.2014              15       59      944       199.0           1.0   \n",
       "\n",
       "           item_name  item_category_id item_category_name  \\\n",
       "0  ЯВЛЕНИЕ 2012 (BD)                37     Кино - Blu-Ray   \n",
       "1          2012 (BD)                37     Кино - Blu-Ray   \n",
       "2          2012 (BD)                37     Кино - Blu-Ray   \n",
       "3          2012 (BD)                37     Кино - Blu-Ray   \n",
       "4          2012 (BD)                37     Кино - Blu-Ray   \n",
       "5          2012 (BD)                37     Кино - Blu-Ray   \n",
       "6          2012 (BD)                37     Кино - Blu-Ray   \n",
       "7          2012 (BD)                37     Кино - Blu-Ray   \n",
       "8          2012 (BD)                37     Кино - Blu-Ray   \n",
       "9          2012 (BD)                37     Кино - Blu-Ray   \n",
       "\n",
       "                shop_name  \n",
       "0  Ярославль ТЦ \"Альтаир\"  \n",
       "1  Ярославль ТЦ \"Альтаир\"  \n",
       "2  Ярославль ТЦ \"Альтаир\"  \n",
       "3  Ярославль ТЦ \"Альтаир\"  \n",
       "4  Ярославль ТЦ \"Альтаир\"  \n",
       "5  Ярославль ТЦ \"Альтаир\"  \n",
       "6  Ярославль ТЦ \"Альтаир\"  \n",
       "7  Ярославль ТЦ \"Альтаир\"  \n",
       "8  Ярославль ТЦ \"Альтаир\"  \n",
       "9  Ярославль ТЦ \"Альтаир\"  "
      ]
     },
     "execution_count": 4,
     "metadata": {},
     "output_type": "execute_result"
    }
   ],
   "source": [
    "df = pd.merge(transactions, items, on='item_id')\n",
    "df_new = pd.merge(df, item_categories, on='item_category_id')\n",
    "df = pd.merge(df_new, shops, on='shop_id')\n",
    "df.head(10)"
   ]
  },
  {
   "cell_type": "code",
   "execution_count": 6,
   "metadata": {},
   "outputs": [
    {
     "name": "stdout",
     "output_type": "stream",
     "text": [
      "False\n",
      "<class 'pandas.core.frame.DataFrame'>\n",
      "Int64Index: 2935849 entries, 0 to 2935848\n",
      "Data columns (total 10 columns):\n",
      "date                  object\n",
      "date_block_num        int64\n",
      "shop_id               int64\n",
      "item_id               int64\n",
      "item_price            float64\n",
      "item_cnt_day          float64\n",
      "item_name             object\n",
      "item_category_id      int64\n",
      "item_category_name    object\n",
      "shop_name             object\n",
      "dtypes: float64(2), int64(4), object(4)\n",
      "memory usage: 246.4+ MB\n",
      "None\n"
     ]
    }
   ],
   "source": [
    "print(df.isnull().any().any())\n",
    "print(df.info())"
   ]
  },
  {
   "cell_type": "markdown",
   "metadata": {},
   "source": [
    "There are no missing values. Some types can be converted to int32 or float32 before using the model."
   ]
  },
  {
   "cell_type": "code",
   "execution_count": 7,
   "metadata": {},
   "outputs": [],
   "source": [
    "a = pd.to_datetime(df['date'], dayfirst=True, format='%d.%m.%Y')\n",
    "#df_date = df.loc[(a.dt.month == 9) & (a.dt.year == 2014)]"
   ]
  },
  {
   "cell_type": "code",
   "execution_count": 10,
   "metadata": {},
   "outputs": [
    {
     "name": "stdout",
     "output_type": "stream",
     "text": [
      "   year  month  day\n",
      "0  2013      1    2\n",
      "1  2013      4   26\n",
      "2  2013      6   26\n",
      "3  2013      7   20\n",
      "4  2013      9   14\n"
     ]
    }
   ],
   "source": [
    "df_clean = df\n",
    "df_clean = df_clean.assign(year = a.dt.year)\n",
    "df_clean = df_clean.assign(month = a.dt.month)\n",
    "df_clean = df_clean.assign(day = a.dt.day)\n",
    "df_time = df_clean[['year', 'month', 'day']]\n",
    "df_days = df_time.day\n",
    "df_months = df_time.month\n",
    "df_years = df_time.year\n",
    "#df_new = df_new.assign(total = df_new.item_price*df_new.item_cnt_day)\n",
    "#max_revenue = df_new.groupby(['shop_id']).total.sum().max()\n",
    "#print(max_revenue)\n",
    "print(df_time.head())"
   ]
  },
  {
   "cell_type": "code",
   "execution_count": null,
   "metadata": {},
   "outputs": [],
   "source": [
    "df_summer = df.loc[((a.dt.month == 6) | (a.dt.month == 7) | (a.dt.month == 8)) & (a.dt.year == 2014)]\n",
    "df_summer = df_summer.assign(total = df_summer.item_price*df_summer.item_cnt_day)\n",
    "max_revenue = df_summer.groupby(['item_category_id']).total.sum()\n",
    "max_revenue.sort_values(ascending=False, inplace=True)\n",
    "category_id_with_max_revenue = max_revenue.index[0]\n",
    "print(category_id_with_max_revenue)"
   ]
  },
  {
   "cell_type": "code",
   "execution_count": null,
   "metadata": {},
   "outputs": [],
   "source": [
    "df_unique = pd.DataFrame(transactions.groupby(['item_id']).item_price.nunique())\n",
    "num_items_constant_price = len(df_unique[df_unique.item_price==1])\n",
    "print(num_items_constant_price)"
   ]
  },
  {
   "cell_type": "code",
   "execution_count": null,
   "metadata": {},
   "outputs": [],
   "source": [
    "shop_id = 25\n",
    "df_25 = df.loc[(a.dt.month == 12) & (a.dt.year == 2014)]\n",
    "df_shop = df_25[df_25.shop_id == 25]\n",
    "total_num_items_sold = df_shop.groupby([a.dt.day]).item_cnt_day.sum()#df_shop.item_cnt_day.sum()\n",
    "days = total_num_items_sold.index\n",
    "\n",
    "# Plot it\n",
    "plt.plot(days, total_num_items_sold)\n",
    "plt.ylabel('Num items')\n",
    "plt.xlabel('Day')\n",
    "plt.title(\"Daily revenue for shop_id = 25\")\n",
    "plt.show()\n",
    "\n",
    "total_num_items_sold_var = np.var(total_num_items_sold, ddof=1)\n",
    "print(total_num_items_sold_var)"
   ]
  },
  {
   "cell_type": "markdown",
   "metadata": {},
   "source": [
    "Now, I am looking at each of the columns, make a histogram. The goal is to find interesting features and/or missing data. "
   ]
  },
  {
   "cell_type": "code",
   "execution_count": 11,
   "metadata": {},
   "outputs": [
    {
     "data": {
      "text/plain": [
       "<matplotlib.axes._subplots.AxesSubplot at 0x110bba4e0>"
      ]
     },
     "execution_count": 11,
     "metadata": {},
     "output_type": "execute_result"
    },
    {
     "data": {
      "image/png": "[encoded data removed]",
      "text/plain": [
       "<matplotlib.figure.Figure at 0x110bb9be0>"
      ]
     },
     "metadata": {},
     "output_type": "display_data"
    }
   ],
   "source": [
    "df_months.hist(bins=12)"
   ]
  },
  {
   "cell_type": "code",
   "execution_count": 12,
   "metadata": {},
   "outputs": [
    {
     "data": {
      "text/plain": [
       "<matplotlib.axes._subplots.AxesSubplot at 0x110bb99b0>"
      ]
     },
     "execution_count": 12,
     "metadata": {},
     "output_type": "execute_result"
    },
    {
     "data": {
      "image/png": "[encoded data removed]",
      "text/plain": [
       "<matplotlib.figure.Figure at 0x110be80b8>"
      ]
     },
     "metadata": {},
     "output_type": "display_data"
    }
   ],
   "source": [
    "df_days.hist(bins=15)"
   ]
  },
  {
   "cell_type": "code",
   "execution_count": 13,
   "metadata": {},
   "outputs": [
    {
     "data": {
      "text/plain": [
       "<matplotlib.axes._subplots.AxesSubplot at 0x111109a20>"
      ]
     },
     "execution_count": 13,
     "metadata": {},
     "output_type": "execute_result"
    },
    {
     "data": {
      "image/png": "[encoded data removed]",
      "text/plain": [
       "<matplotlib.figure.Figure at 0x111422390>"
      ]
     },
     "metadata": {},
     "output_type": "display_data"
    }
   ],
   "source": [
    "df_years.hist()"
   ]
  },
  {
   "cell_type": "markdown",
   "metadata": {},
   "source": [
    "We can see, that at the end of the month, people buy more. Also the sales are higher at the end of the year and at the beginning of the year. Both make sense. The sales decrease over the years. Consider making features, which take into account this behaviour."
   ]
  },
  {
   "cell_type": "code",
   "execution_count": 14,
   "metadata": {},
   "outputs": [
    {
     "name": "stdout",
     "output_type": "stream",
     "text": [
      "34\n"
     ]
    }
   ],
   "source": [
    "print(len(df_clean.date_block_num.unique()))"
   ]
  },
  {
   "cell_type": "markdown",
   "metadata": {},
   "source": [
    "I think we should split the time by `date_block_num`, which counts the month from the start by time. "
   ]
  },
  {
   "cell_type": "code",
   "execution_count": 15,
   "metadata": {},
   "outputs": [
    {
     "name": "stdout",
     "output_type": "stream",
     "text": [
      "[59 24 27 25  6 15  7 31 54 42 38 37 46 44 51 16  1  0 28 57 23 58 56 35\n",
      " 47 21 22 19 18  8 30 41 45 32 29 50 53 43 17  2 52 13 14  3 10 12 26  5\n",
      "  4 39 48 49 34 11 36 33  9 40 20 55]\n",
      "60\n"
     ]
    },
    {
     "data": {
      "text/plain": [
       "<matplotlib.axes._subplots.AxesSubplot at 0x111475dd8>"
      ]
     },
     "execution_count": 15,
     "metadata": {},
     "output_type": "execute_result"
    },
    {
     "data": {
      "image/png": "[encoded data removed]",
      "text/plain": [
       "<matplotlib.figure.Figure at 0x111422ef0>"
      ]
     },
     "metadata": {},
     "output_type": "display_data"
    }
   ],
   "source": [
    "print(df_clean.shop_id.unique())\n",
    "print(len(df_clean.shop_id.unique()))\n",
    "df_clean.shop_id.hist(bins=60)"
   ]
  },
  {
   "cell_type": "markdown",
   "metadata": {},
   "source": [
    "There are 60 different shops. In the first step, I am not interested in the shop names. But they can also be useful as features."
   ]
  },
  {
   "cell_type": "code",
   "execution_count": 16,
   "metadata": {},
   "outputs": [
    {
     "name": "stdout",
     "output_type": "stream",
     "text": [
      "[22154   944   965 ... 13091 13094 13092]\n",
      "21807\n"
     ]
    }
   ],
   "source": [
    "print(df_clean.item_id.unique())\n",
    "print(len(df_clean.item_id.unique()))"
   ]
  },
  {
   "cell_type": "markdown",
   "metadata": {},
   "source": [
    "There are 21807 items. Here again, I am not looking at the items in the first step. But these can be important features. What items are these? Can we group them into subgroups?"
   ]
  },
  {
   "cell_type": "code",
   "execution_count": 17,
   "metadata": {},
   "outputs": [
    {
     "name": "stdout",
     "output_type": "stream",
     "text": [
      "[ 999.          150.          199.5        ... 2266.33333333 2485.28571429\n",
      "  912.75      ]\n",
      "19993\n"
     ]
    },
    {
     "data": {
      "text/plain": [
       "<matplotlib.axes._subplots.AxesSubplot at 0x11153f358>"
      ]
     },
     "execution_count": 17,
     "metadata": {},
     "output_type": "execute_result"
    },
    {
     "data": {
      "image/png": "[encoded data removed]",
      "text/plain": [
       "<matplotlib.figure.Figure at 0x11168a5c0>"
      ]
     },
     "metadata": {},
     "output_type": "display_data"
    }
   ],
   "source": [
    "print(df_clean.item_price.unique())\n",
    "print(len(df_clean.item_price.unique()))\n",
    "df_clean.item_price.plot()"
   ]
  },
  {
   "cell_type": "code",
   "execution_count": 18,
   "metadata": {},
   "outputs": [
    {
     "name": "stdout",
     "output_type": "stream",
     "text": [
      "-1.0\n",
      "307980.0\n"
     ]
    }
   ],
   "source": [
    "print(df_clean.item_price.min())\n",
    "print(df_clean.item_price.max())"
   ]
  },
  {
   "cell_type": "markdown",
   "metadata": {},
   "source": [
    "It is not possible to have a negative price, and also the maximum seems to me to be an outlier. Take care of these numbers. We should look what items these are and then insert the correct price if possible. If not...?"
   ]
  },
  {
   "cell_type": "code",
   "execution_count": 19,
   "metadata": {},
   "outputs": [
    {
     "name": "stdout",
     "output_type": "stream",
     "text": [
      "2256678   -1.0\n",
      "Name: item_price, dtype: float64\n",
      "2678303    307980.0\n",
      "Name: item_price, dtype: float64\n"
     ]
    }
   ],
   "source": [
    "print(df_clean.item_price[df.item_price <= 0])\n",
    "print(df_clean.item_price[df.item_price > 100000])"
   ]
  },
  {
   "cell_type": "code",
   "execution_count": 20,
   "metadata": {},
   "outputs": [
    {
     "name": "stdout",
     "output_type": "stream",
     "text": [
      "2973\n",
      "6066\n",
      "9688       2499.00\n",
      "9689       2499.00\n",
      "9690       2499.00\n",
      "9691       2499.00\n",
      "9692       2499.00\n",
      "9693       2499.00\n",
      "9694       2499.00\n",
      "9695       1249.50\n",
      "9696       1249.00\n",
      "9697       1249.50\n",
      "9698       1249.50\n",
      "9699       1562.03\n",
      "9700       1250.00\n",
      "53330      2499.00\n",
      "53331      2499.00\n",
      "53332      2498.50\n",
      "53333      2499.00\n",
      "53334      2499.00\n",
      "53335      2499.00\n",
      "53336      2248.80\n",
      "53337      1249.50\n",
      "53338      1249.50\n",
      "53339      1250.00\n",
      "122159     2499.00\n",
      "122160     2499.00\n",
      "122161     2499.00\n",
      "122162     2499.00\n",
      "122163     2499.00\n",
      "122164     2499.00\n",
      "122165     2499.00\n",
      "            ...   \n",
      "2709965    2499.00\n",
      "2709966    2499.00\n",
      "2709967    2499.00\n",
      "2709968    2499.00\n",
      "2709969    1249.00\n",
      "2709970    1249.00\n",
      "2709971    1249.00\n",
      "2709972    1249.00\n",
      "2709973    1275.27\n",
      "2709974    1249.50\n",
      "2709975    1562.03\n",
      "2709976    1249.50\n",
      "2709977    1250.00\n",
      "2709978    1249.50\n",
      "2761238    1249.50\n",
      "2761239    1249.00\n",
      "2761240    1249.50\n",
      "2761241    1249.50\n",
      "2799723    2499.00\n",
      "2799724    2499.00\n",
      "2799725    2499.00\n",
      "2799726    2498.75\n",
      "2799727    2499.00\n",
      "2799728    2499.00\n",
      "2799729    1249.50\n",
      "2799730    1249.00\n",
      "2799731    1249.50\n",
      "2799732    1249.50\n",
      "2799733    1249.50\n",
      "2891490    1249.50\n",
      "Name: item_price, Length: 780, dtype: float64\n",
      "2678303    307980.0\n",
      "Name: item_price, dtype: float64\n"
     ]
    }
   ],
   "source": [
    "item_outlier1 = df_clean.item_id[2256678]\n",
    "item_outlier2 = df_clean.item_id[2678303]\n",
    "\n",
    "print(item_outlier1)\n",
    "print(item_outlier2)\n",
    "\n",
    "print(df_clean.item_price[df.item_id == item_outlier1])\n",
    "print(df_clean.item_price[df.item_id == item_outlier2])"
   ]
  },
  {
   "cell_type": "markdown",
   "metadata": {},
   "source": [
    "So, there are different prices for this single item, which means, we could take simply the average of the prices or we look at the specific shop. It could be, that in this shop the prices are always lower/higher, than we take this price. Or we look also at the time. Often the prices are different depending on time. For the second outlier? there is only one item sold. So we have to check, what item this is and where it is sold. Is this really an outlier? We cannot insert a number, but depending on the model we will use Nan would work fine. Yes, and maybe we check first the test data. Is there an item price as high as this one?"
   ]
  },
  {
   "cell_type": "code",
   "execution_count": 21,
   "metadata": {},
   "outputs": [
    {
     "name": "stdout",
     "output_type": "stream",
     "text": [
      "date                                                 15.05.2013\n",
      "date_block_num                                                4\n",
      "shop_id                                                      32\n",
      "item_id                                                    2973\n",
      "item_price                                                   -1\n",
      "item_cnt_day                                                  1\n",
      "item_name             DmC Devil May Cry [PS3, русские субтитры]\n",
      "item_category_id                                             19\n",
      "item_category_name                                   Игры - PS3\n",
      "shop_name                            Москва ТЦ \"Серебряный Дом\"\n",
      "year                                                       2013\n",
      "month                                                         5\n",
      "day                                                          15\n",
      "Name: 2256678, dtype: object\n"
     ]
    }
   ],
   "source": [
    "print(df_clean.iloc[2256678])"
   ]
  },
  {
   "cell_type": "code",
   "execution_count": 22,
   "metadata": {},
   "outputs": [
    {
     "name": "stdout",
     "output_type": "stream",
     "text": [
      "               date  date_block_num  shop_id  item_id  item_price  \\\n",
      "2256668  29.01.2013               0       32     2973      2499.0   \n",
      "2256669  25.01.2013               0       32     2973      2499.0   \n",
      "2256670  22.01.2013               0       32     2973      2499.0   \n",
      "2256671  21.01.2013               0       32     2973      2499.0   \n",
      "2256672  18.01.2013               0       32     2973      2499.0   \n",
      "2256673  17.01.2013               0       32     2973      2499.0   \n",
      "2256674  15.01.2013               0       32     2973      2499.0   \n",
      "2256675  05.02.2013               1       32     2973      2499.0   \n",
      "2256676  14.02.2013               1       32     2973      2499.0   \n",
      "2256677  23.05.2013               4       32     2973      1249.0   \n",
      "2256678  15.05.2013               4       32     2973        -1.0   \n",
      "2256679  06.05.2013               4       32     2973      2499.0   \n",
      "2256680  05.06.2013               5       32     2973      1249.5   \n",
      "\n",
      "         item_cnt_day                                  item_name  \\\n",
      "2256668           1.0  DmC Devil May Cry [PS3, русские субтитры]   \n",
      "2256669           1.0  DmC Devil May Cry [PS3, русские субтитры]   \n",
      "2256670           1.0  DmC Devil May Cry [PS3, русские субтитры]   \n",
      "2256671           1.0  DmC Devil May Cry [PS3, русские субтитры]   \n",
      "2256672           1.0  DmC Devil May Cry [PS3, русские субтитры]   \n",
      "2256673           1.0  DmC Devil May Cry [PS3, русские субтитры]   \n",
      "2256674           3.0  DmC Devil May Cry [PS3, русские субтитры]   \n",
      "2256675           1.0  DmC Devil May Cry [PS3, русские субтитры]   \n",
      "2256676           1.0  DmC Devil May Cry [PS3, русские субтитры]   \n",
      "2256677           1.0  DmC Devil May Cry [PS3, русские субтитры]   \n",
      "2256678           1.0  DmC Devil May Cry [PS3, русские субтитры]   \n",
      "2256679           1.0  DmC Devil May Cry [PS3, русские субтитры]   \n",
      "2256680           1.0  DmC Devil May Cry [PS3, русские субтитры]   \n",
      "\n",
      "         item_category_id item_category_name                   shop_name  \\\n",
      "2256668                19         Игры - PS3  Москва ТЦ \"Серебряный Дом\"   \n",
      "2256669                19         Игры - PS3  Москва ТЦ \"Серебряный Дом\"   \n",
      "2256670                19         Игры - PS3  Москва ТЦ \"Серебряный Дом\"   \n",
      "2256671                19         Игры - PS3  Москва ТЦ \"Серебряный Дом\"   \n",
      "2256672                19         Игры - PS3  Москва ТЦ \"Серебряный Дом\"   \n",
      "2256673                19         Игры - PS3  Москва ТЦ \"Серебряный Дом\"   \n",
      "2256674                19         Игры - PS3  Москва ТЦ \"Серебряный Дом\"   \n",
      "2256675                19         Игры - PS3  Москва ТЦ \"Серебряный Дом\"   \n",
      "2256676                19         Игры - PS3  Москва ТЦ \"Серебряный Дом\"   \n",
      "2256677                19         Игры - PS3  Москва ТЦ \"Серебряный Дом\"   \n",
      "2256678                19         Игры - PS3  Москва ТЦ \"Серебряный Дом\"   \n",
      "2256679                19         Игры - PS3  Москва ТЦ \"Серебряный Дом\"   \n",
      "2256680                19         Игры - PS3  Москва ТЦ \"Серебряный Дом\"   \n",
      "\n",
      "         year  month  day  \n",
      "2256668  2013      1   29  \n",
      "2256669  2013      1   25  \n",
      "2256670  2013      1   22  \n",
      "2256671  2013      1   21  \n",
      "2256672  2013      1   18  \n",
      "2256673  2013      1   17  \n",
      "2256674  2013      1   15  \n",
      "2256675  2013      2    5  \n",
      "2256676  2013      2   14  \n",
      "2256677  2013      5   23  \n",
      "2256678  2013      5   15  \n",
      "2256679  2013      5    6  \n",
      "2256680  2013      6    5  \n"
     ]
    }
   ],
   "source": [
    "print(df_clean.loc[(df_clean.item_id==item_outlier1) & (df_clean.shop_id==32)])"
   ]
  },
  {
   "cell_type": "markdown",
   "metadata": {},
   "source": [
    "So the price is either 2499.0 or 1249.0. I check if this shop starts price reductions on a specific day. Since it is only a single number, I think it will not influence the output a lot."
   ]
  },
  {
   "cell_type": "code",
   "execution_count": 23,
   "metadata": {},
   "outputs": [
    {
     "name": "stdout",
     "output_type": "stream",
     "text": [
      "Int64Index([2258753, 2258969, 2259020, 2261478, 2255488, 2259037], dtype='int64')\n",
      "date                                                         24.05.2013\n",
      "date_block_num                                                        4\n",
      "shop_id                                                              32\n",
      "item_id                                                            6134\n",
      "item_price                                                          579\n",
      "item_cnt_day                                                          3\n",
      "item_name             Resident Evil: Revelations [PC, Jewel, русские...\n",
      "item_category_id                                                     30\n",
      "item_category_name                        Игры PC - Стандартные издания\n",
      "shop_name                                    Москва ТЦ \"Серебряный Дом\"\n",
      "year                                                               2013\n",
      "month                                                                 5\n",
      "day                                                                  24\n",
      "Name: 2259037, dtype: object\n"
     ]
    }
   ],
   "source": [
    "df_check = df_clean.loc[(df_clean.day > 13) &(df_clean.month==5) & (df_clean.shop_id==32)]\n",
    "diff = df_check.groupby(['item_id']).item_price.diff()\n",
    "diff.sort_values(ascending=False, inplace=True)\n",
    "id_with_max_diff = diff.index[0:6]\n",
    "\n",
    "print(id_with_max_diff)\n",
    "print(df_clean.iloc[2259037])"
   ]
  },
  {
   "cell_type": "markdown",
   "metadata": {},
   "source": [
    "I did this not in a clean way. It takes me too much time since I am not that good in python yet. But I have seen, that the price reduction was not before the 20th of May. So I will change the -1 to 2499.0 in the `df_clean` data frame."
   ]
  },
  {
   "cell_type": "code",
   "execution_count": 24,
   "metadata": {},
   "outputs": [],
   "source": [
    "df_clean.item_price.replace(to_replace=-1, value=2499.0 , inplace=True) \n",
    "#print(df_clean.loc[(df_clean.item_id==item_outlier1) & (df_clean.shop_id==32)])"
   ]
  },
  {
   "cell_type": "code",
   "execution_count": 25,
   "metadata": {},
   "outputs": [
    {
     "name": "stdout",
     "output_type": "stream",
     "text": [
      "Empty DataFrame\n",
      "Columns: [ID, shop_id, item_id]\n",
      "Index: []\n"
     ]
    }
   ],
   "source": [
    "print(test.loc[(test.item_id ==2678303) ])"
   ]
  },
  {
   "cell_type": "markdown",
   "metadata": {},
   "source": [
    "Since there is no item with the same `item_id` in the test set, we can delete this row containing the high item price of 307980.0."
   ]
  },
  {
   "cell_type": "code",
   "execution_count": 26,
   "metadata": {},
   "outputs": [
    {
     "name": "stdout",
     "output_type": "stream",
     "text": [
      "Series([], Name: item_price, dtype: float64)\n"
     ]
    }
   ],
   "source": [
    "df_clean.drop(df_clean.index[2678303], inplace=True)\n",
    "print(df_clean.item_price[df.item_price > 100000])"
   ]
  },
  {
   "cell_type": "code",
   "execution_count": 27,
   "metadata": {},
   "outputs": [
    {
     "data": {
      "text/plain": [
       "<matplotlib.axes._subplots.AxesSubplot at 0x11152e048>"
      ]
     },
     "execution_count": 27,
     "metadata": {},
     "output_type": "execute_result"
    },
    {
     "data": {
      "image/png": "[encoded data removed]",
      "text/plain": [
       "<matplotlib.figure.Figure at 0x111487128>"
      ]
     },
     "metadata": {},
     "output_type": "display_data"
    }
   ],
   "source": [
    "df_clean.item_cnt_day.plot()"
   ]
  },
  {
   "cell_type": "code",
   "execution_count": 29,
   "metadata": {},
   "outputs": [
    {
     "data": {
      "text/plain": [
       "<matplotlib.axes._subplots.AxesSubplot at 0x1115a0748>"
      ]
     },
     "execution_count": 29,
     "metadata": {},
     "output_type": "execute_result"
    },
    {
     "data": {
      "image/png": "[encoded data removed]",
      "text/plain": [
       "<matplotlib.figure.Figure at 0x110ff47f0>"
      ]
     },
     "metadata": {},
     "output_type": "display_data"
    }
   ],
   "source": [
    "df_clean.item_cnt_day.hist()"
   ]
  },
  {
   "cell_type": "code",
   "execution_count": 30,
   "metadata": {},
   "outputs": [
    {
     "name": "stdout",
     "output_type": "stream",
     "text": [
      "               date  date_block_num  shop_id  item_id  item_price  \\\n",
      "2693208  15.01.2015              24       12    20949    4.000000   \n",
      "2694327  28.10.2015              33       12    11373    0.908714   \n",
      "\n",
      "         item_cnt_day                                          item_name  \\\n",
      "2693208        1000.0  Фирменный пакет майка 1С Интерес белый (34*42)...   \n",
      "2694327        2169.0               Доставка до пункта выдачи (Boxberry)   \n",
      "\n",
      "         item_category_id                        item_category_name  \\\n",
      "2693208                71  Подарки - Сумки, Альбомы, Коврики д/мыши   \n",
      "2694327                 9                           Доставка товара   \n",
      "\n",
      "                   shop_name  year  month  day  \n",
      "2693208  Интернет-магазин ЧС  2015      1   15  \n",
      "2694327  Интернет-магазин ЧС  2015     10   28  \n",
      "               date  date_block_num  shop_id  item_id   item_price  \\\n",
      "998699   19.10.2013               9       42     3732  2599.000000   \n",
      "2614214  10.07.2014              18       14    20949     5.000000   \n",
      "2682049  18.01.2013               0       12     1590  2599.000000   \n",
      "2688690  02.11.2013              10       12     8023    15.000000   \n",
      "2697331  10.10.2014              21       12     9242  1433.333333   \n",
      "\n",
      "         item_cnt_day                                          item_name  \\\n",
      "998699           -6.0         Grand Theft Auto V [PS3, русские субтитры]   \n",
      "2614214         -16.0  Фирменный пакет майка 1С Интерес белый (34*42)...   \n",
      "2682049          -6.0  Assassin’s Creed 3. Freedom Edition [PC, русск...   \n",
      "2688690         -22.0         ZL004 Лазерные наклейки Смайлики маленькие   \n",
      "2697331          -9.0  Билет \"ИгроМир 2014\" (на один день (отдельно -...   \n",
      "\n",
      "         item_category_id                        item_category_name  \\\n",
      "998699                 19                                Игры - PS3   \n",
      "2614214                71  Подарки - Сумки, Альбомы, Коврики д/мыши   \n",
      "2682049                29           Игры PC - Коллекционные издания   \n",
      "2688690                66              Подарки - Открытки, наклейки   \n",
      "2697331                 8                            Билеты (Цифра)   \n",
      "\n",
      "                       shop_name  year  month  day  \n",
      "998699    СПб ТК \"Невский Центр\"  2013     10   19  \n",
      "2614214  Казань ТЦ \"ПаркХаус\" II  2014      7   10  \n",
      "2682049      Интернет-магазин ЧС  2013      1   18  \n",
      "2688690      Интернет-магазин ЧС  2013     11    2  \n",
      "2697331      Интернет-магазин ЧС  2014     10   10  \n"
     ]
    }
   ],
   "source": [
    "print(df_clean.loc[(df_clean.item_cnt_day > 700)])\n",
    "print(df_clean.loc[(df_clean.item_cnt_day < -5)])"
   ]
  },
  {
   "cell_type": "markdown",
   "metadata": {},
   "source": [
    "This looks reasonable. We have to think how we create the features here."
   ]
  },
  {
   "cell_type": "code",
   "execution_count": 31,
   "metadata": {},
   "outputs": [
    {
     "name": "stdout",
     "output_type": "stream",
     "text": [
      "[37 58 56 59 55 23 19 28 30 21 40 75 49 29 22 67 73 77 57 60  4 62 43 15\n",
      "  2  3  5 35 33  6 38 25 14 45 41 66 11 69 65 64 79 63 70 13 83 72 61 71\n",
      " 32 39 12 20 17  8 16 24  7 47 42 80 68 82 81  0 46 53 18 51 48  1 50  9\n",
      " 10 52 31 76 78 54 44 34 74 26 27 36]\n",
      "84\n"
     ]
    },
    {
     "data": {
      "text/plain": [
       "<matplotlib.axes._subplots.AxesSubplot at 0x110ff4f28>"
      ]
     },
     "execution_count": 31,
     "metadata": {},
     "output_type": "execute_result"
    },
    {
     "data": {
      "image/png": "[encoded data removed]",
      "text/plain": [
       "<matplotlib.figure.Figure at 0x11102a1d0>"
      ]
     },
     "metadata": {},
     "output_type": "display_data"
    }
   ],
   "source": [
    "print(df_clean.item_category_id.unique())\n",
    "print(len(df_clean.item_category_id.unique()))\n",
    "df_clean.item_category_id.hist(bins=84)"
   ]
  },
  {
   "cell_type": "markdown",
   "metadata": {},
   "source": [
    "## Feature Extraction"
   ]
  },
  {
   "cell_type": "markdown",
   "metadata": {},
   "source": [
    "Possible features are all the id's and the `date`, also the `item_price` and `item_cent_per_day`. What is `date_block_num`, which of course can also be a feature."
   ]
  },
  {
   "cell_type": "markdown",
   "metadata": {},
   "source": [
    "TODO: So, first thing would be to order by date and split the train test data..."
   ]
  },
  {
   "cell_type": "markdown",
   "metadata": {},
   "source": [
    "## Explore Data"
   ]
  },
  {
   "cell_type": "code",
   "execution_count": null,
   "metadata": {},
   "outputs": [],
   "source": []
  }
 ],
 "metadata": {
  "kernelspec": {
   "display_name": "Python 3",
   "language": "python",
   "name": "python3"
  },
  "language_info": {
   "codemirror_mode": {
    "name": "ipython",
    "version": 3
   },
   "file_extension": ".py",
   "mimetype": "text/x-python",
   "name": "python",
   "nbconvert_exporter": "python",
   "pygments_lexer": "ipython3",
   "version": "3.6.4"
  }
 },
 "nbformat": 4,
 "nbformat_minor": 2
}
