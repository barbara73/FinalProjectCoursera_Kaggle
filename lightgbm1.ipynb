{
 "cells": [
  {
   "cell_type": "markdown",
   "metadata": {},
   "source": [
    "Version 1.0.2, Python 2.7.14, conda 4.3.34"
   ]
  },
  {
   "cell_type": "markdown",
   "metadata": {},
   "source": [
    "# Final Project - LightGBM"
   ]
  },
  {
   "cell_type": "code",
   "execution_count": 1,
   "metadata": {},
   "outputs": [
    {
     "name": "stdout",
     "output_type": "stream",
     "text": [
      "numpy 1.14.2\n",
      "pandas 0.22.0\n",
      "lightgbm 2.1.0\n"
     ]
    }
   ],
   "source": [
    "import pandas as pd\n",
    "import numpy as np\n",
    "import lightgbm as lgb\n",
    "\n",
    "from sklearn.metrics import mean_squared_error, r2_score\n",
    "from sklearn.linear_model import LinearRegression\n",
    "\n",
    "from prepare_data2 import k_fold_mean, loo_mean, smoothing_mean, expanding_mean\n",
    "from prepare_data2 import make_grid, get_target, prepare_test\n",
    "from prepare_data2 import create_df, downcast_dtypes\n",
    "\n",
    "import matplotlib.pyplot as plt\n",
    "%matplotlib inline\n",
    "\n",
    "from tqdm import tqdm_notebook\n",
    "from itertools import product\n",
    "import gc\n",
    "\n",
    "for p in [np, pd, lgb]:\n",
    "    print (p.__name__, p.__version__)"
   ]
  },
  {
   "cell_type": "markdown",
   "metadata": {},
   "source": [
    "### Load the data:"
   ]
  },
  {
   "cell_type": "code",
   "execution_count": 2,
   "metadata": {},
   "outputs": [
    {
     "name": "stdout",
     "output_type": "stream",
     "text": [
      "(214200, 3)\n"
     ]
    }
   ],
   "source": [
    "from prepare_data import read_data\n",
    "sales, items, categories, shops, test = read_data()\n",
    "print(test.shape)"
   ]
  },
  {
   "cell_type": "markdown",
   "metadata": {},
   "source": [
    "### Create a clean data frame with all the informations given, which can be used for feature engineering:"
   ]
  },
  {
   "cell_type": "code",
   "execution_count": 3,
   "metadata": {},
   "outputs": [],
   "source": [
    "df = create_df(sales, items, categories, shops) "
   ]
  },
  {
   "cell_type": "markdown",
   "metadata": {},
   "source": [
    "### Create data frame which is then used for training and validation including the target:"
   ]
  },
  {
   "cell_type": "code",
   "execution_count": 4,
   "metadata": {},
   "outputs": [
    {
     "data": {
      "text/plain": [
       "(10913804, 4)"
      ]
     },
     "execution_count": 4,
     "metadata": {},
     "output_type": "execute_result"
    }
   ],
   "source": [
    "index_3 = ['shop_id', 'item_id','date_block_num']\n",
    "\n",
    "grid = make_grid(df, index_3)\n",
    "target = get_target(df, index_3, 'item_cnt_day', 'target', 'sum')\n",
    "all_data = pd.merge(grid, target, how='left', on=index_3).fillna(0)\n",
    "all_data.shape"
   ]
  },
  {
   "cell_type": "code",
   "execution_count": 5,
   "metadata": {},
   "outputs": [
    {
     "data": {
      "text/html": [
       "<div>\n",
       "<style scoped>\n",
       "    .dataframe tbody tr th:only-of-type {\n",
       "        vertical-align: middle;\n",
       "    }\n",
       "\n",
       "    .dataframe tbody tr th {\n",
       "        vertical-align: top;\n",
       "    }\n",
       "\n",
       "    .dataframe thead th {\n",
       "        text-align: right;\n",
       "    }\n",
       "</style>\n",
       "<table border=\"1\" class=\"dataframe\">\n",
       "  <thead>\n",
       "    <tr style=\"text-align: right;\">\n",
       "      <th></th>\n",
       "      <th>shop_id</th>\n",
       "      <th>item_id</th>\n",
       "      <th>date_block_num</th>\n",
       "      <th>target</th>\n",
       "    </tr>\n",
       "  </thead>\n",
       "  <tbody>\n",
       "    <tr>\n",
       "      <th>0</th>\n",
       "      <td>59</td>\n",
       "      <td>22154</td>\n",
       "      <td>0</td>\n",
       "      <td>1.0</td>\n",
       "    </tr>\n",
       "    <tr>\n",
       "      <th>1</th>\n",
       "      <td>59</td>\n",
       "      <td>21759</td>\n",
       "      <td>0</td>\n",
       "      <td>1.0</td>\n",
       "    </tr>\n",
       "    <tr>\n",
       "      <th>2</th>\n",
       "      <td>59</td>\n",
       "      <td>21347</td>\n",
       "      <td>0</td>\n",
       "      <td>1.0</td>\n",
       "    </tr>\n",
       "    <tr>\n",
       "      <th>3</th>\n",
       "      <td>59</td>\n",
       "      <td>22015</td>\n",
       "      <td>0</td>\n",
       "      <td>1.0</td>\n",
       "    </tr>\n",
       "    <tr>\n",
       "      <th>4</th>\n",
       "      <td>59</td>\n",
       "      <td>18977</td>\n",
       "      <td>0</td>\n",
       "      <td>1.0</td>\n",
       "    </tr>\n",
       "  </tbody>\n",
       "</table>\n",
       "</div>"
      ],
      "text/plain": [
       "   shop_id  item_id  date_block_num  target\n",
       "0       59    22154               0     1.0\n",
       "1       59    21759               0     1.0\n",
       "2       59    21347               0     1.0\n",
       "3       59    22015               0     1.0\n",
       "4       59    18977               0     1.0"
      ]
     },
     "execution_count": 5,
     "metadata": {},
     "output_type": "execute_result"
    }
   ],
   "source": [
    "all_data.head()"
   ]
  },
  {
   "cell_type": "code",
   "execution_count": 6,
   "metadata": {},
   "outputs": [],
   "source": [
    "test_data = prepare_test(test)"
   ]
  },
  {
   "cell_type": "markdown",
   "metadata": {},
   "source": [
    "### Feature Engineering:"
   ]
  },
  {
   "cell_type": "code",
   "execution_count": 7,
   "metadata": {},
   "outputs": [],
   "source": [
    "all_data = all_data.assign(month = (all_data.date_block_num%12)+1)\n",
    "all_data = all_data.assign(year = 2013)\n",
    "all_data['year'] = np.where(all_data.date_block_num < 12, 2013, 2014)\n",
    "all_data['year'] = np.where(all_data.date_block_num > 23, 2015, all_data.year)\n",
    "\n",
    "target_shop = get_target(sales, ['shop_id', 'date_block_num'], 'item_cnt_day', 'target_shop', 'sum')\n",
    "all_data = pd.merge(all_data, target_shop, how='left', on=['shop_id', 'date_block_num']).fillna(0)"
   ]
  },
  {
   "cell_type": "code",
   "execution_count": 8,
   "metadata": {},
   "outputs": [],
   "source": [
    "index_cols = ['shop_id', 'item_id']\n",
    "temp = test_data.merge(target_shop, how='left',on=['shop_id'])\n",
    "temp = temp.groupby('shop_id', as_index=False)[['target_shop']].mean()\n",
    "mean_target = all_data['target_shop'].mean()\n",
    "test_data = pd.merge(test_data, temp, how='left', on='shop_id').fillna(mean_target)"
   ]
  },
  {
   "cell_type": "code",
   "execution_count": 9,
   "metadata": {},
   "outputs": [],
   "source": [
    "target_item = get_target(sales, ['item_id', 'date_block_num'], 'item_cnt_day', 'target_item', 'sum')\n",
    "all_data = pd.merge(all_data, target_item, how='left', on=['item_id', 'date_block_num']).fillna(0)"
   ]
  },
  {
   "cell_type": "code",
   "execution_count": 10,
   "metadata": {},
   "outputs": [],
   "source": [
    "temp = test_data.merge(target_item, how='left',on=['item_id'])\n",
    "temp = temp.groupby('item_id', as_index=False)[['target_item']].mean()\n",
    "mean_target = all_data['target_item'].mean()\n",
    "test_data = pd.merge(test_data, temp, how='left', on='item_id').fillna(mean_target)"
   ]
  },
  {
   "cell_type": "code",
   "execution_count": 11,
   "metadata": {},
   "outputs": [],
   "source": [
    "all_data.sort_values(index_3,inplace=True)"
   ]
  },
  {
   "cell_type": "markdown",
   "metadata": {},
   "source": [
    "Add all the informations we have to `all_data`:"
   ]
  },
  {
   "cell_type": "code",
   "execution_count": 12,
   "metadata": {},
   "outputs": [],
   "source": [
    "all_data = pd.merge(all_data, items, how='left', on='item_id')\n",
    "all_data = pd.merge(all_data, categories, how='left', on='item_category_id')\n",
    "all_data = pd.merge(all_data, shops, how='left', on='shop_id')"
   ]
  },
  {
   "cell_type": "markdown",
   "metadata": {},
   "source": [
    "and then to `test_data`:"
   ]
  },
  {
   "cell_type": "code",
   "execution_count": 13,
   "metadata": {},
   "outputs": [],
   "source": [
    "test_data = pd.merge(test_data, items, how='left', on='item_id')\n",
    "test_data = pd.merge(test_data, categories, how='left', on='item_category_id')\n",
    "test_data = pd.merge(test_data, shops, how='left', on='shop_id')\n",
    "test_data = test_data.drop(['item_name', 'shop_name', 'item_category_name'], axis=1)\n",
    "all_data = all_data.drop(['item_name', 'shop_name', 'item_category_name'], axis=1)"
   ]
  },
  {
   "cell_type": "code",
   "execution_count": 14,
   "metadata": {},
   "outputs": [
    {
     "data": {
      "text/html": [
       "<div>\n",
       "<style scoped>\n",
       "    .dataframe tbody tr th:only-of-type {\n",
       "        vertical-align: middle;\n",
       "    }\n",
       "\n",
       "    .dataframe tbody tr th {\n",
       "        vertical-align: top;\n",
       "    }\n",
       "\n",
       "    .dataframe thead th {\n",
       "        text-align: right;\n",
       "    }\n",
       "</style>\n",
       "<table border=\"1\" class=\"dataframe\">\n",
       "  <thead>\n",
       "    <tr style=\"text-align: right;\">\n",
       "      <th></th>\n",
       "      <th>shop_id</th>\n",
       "      <th>item_id</th>\n",
       "      <th>date_block_num</th>\n",
       "      <th>target</th>\n",
       "      <th>month</th>\n",
       "      <th>year</th>\n",
       "      <th>target_shop</th>\n",
       "      <th>target_item</th>\n",
       "      <th>item_category_id</th>\n",
       "    </tr>\n",
       "  </thead>\n",
       "  <tbody>\n",
       "    <tr>\n",
       "      <th>0</th>\n",
       "      <td>0</td>\n",
       "      <td>12</td>\n",
       "      <td>1</td>\n",
       "      <td>0.0</td>\n",
       "      <td>2</td>\n",
       "      <td>2013</td>\n",
       "      <td>6127.0</td>\n",
       "      <td>1.0</td>\n",
       "      <td>55</td>\n",
       "    </tr>\n",
       "    <tr>\n",
       "      <th>1</th>\n",
       "      <td>0</td>\n",
       "      <td>19</td>\n",
       "      <td>0</td>\n",
       "      <td>0.0</td>\n",
       "      <td>1</td>\n",
       "      <td>2013</td>\n",
       "      <td>5578.0</td>\n",
       "      <td>1.0</td>\n",
       "      <td>40</td>\n",
       "    </tr>\n",
       "    <tr>\n",
       "      <th>2</th>\n",
       "      <td>0</td>\n",
       "      <td>27</td>\n",
       "      <td>0</td>\n",
       "      <td>0.0</td>\n",
       "      <td>1</td>\n",
       "      <td>2013</td>\n",
       "      <td>5578.0</td>\n",
       "      <td>7.0</td>\n",
       "      <td>19</td>\n",
       "    </tr>\n",
       "    <tr>\n",
       "      <th>3</th>\n",
       "      <td>0</td>\n",
       "      <td>27</td>\n",
       "      <td>1</td>\n",
       "      <td>0.0</td>\n",
       "      <td>2</td>\n",
       "      <td>2013</td>\n",
       "      <td>6127.0</td>\n",
       "      <td>3.0</td>\n",
       "      <td>19</td>\n",
       "    </tr>\n",
       "    <tr>\n",
       "      <th>4</th>\n",
       "      <td>0</td>\n",
       "      <td>28</td>\n",
       "      <td>0</td>\n",
       "      <td>0.0</td>\n",
       "      <td>1</td>\n",
       "      <td>2013</td>\n",
       "      <td>5578.0</td>\n",
       "      <td>8.0</td>\n",
       "      <td>30</td>\n",
       "    </tr>\n",
       "  </tbody>\n",
       "</table>\n",
       "</div>"
      ],
      "text/plain": [
       "   shop_id  item_id  date_block_num  target  month  year  target_shop  \\\n",
       "0        0       12               1     0.0      2  2013       6127.0   \n",
       "1        0       19               0     0.0      1  2013       5578.0   \n",
       "2        0       27               0     0.0      1  2013       5578.0   \n",
       "3        0       27               1     0.0      2  2013       6127.0   \n",
       "4        0       28               0     0.0      1  2013       5578.0   \n",
       "\n",
       "   target_item  item_category_id  \n",
       "0          1.0                55  \n",
       "1          1.0                40  \n",
       "2          7.0                19  \n",
       "3          3.0                19  \n",
       "4          8.0                30  "
      ]
     },
     "execution_count": 14,
     "metadata": {},
     "output_type": "execute_result"
    }
   ],
   "source": [
    "all_data.head()"
   ]
  },
  {
   "cell_type": "code",
   "execution_count": 15,
   "metadata": {},
   "outputs": [
    {
     "data": {
      "text/html": [
       "<div>\n",
       "<style scoped>\n",
       "    .dataframe tbody tr th:only-of-type {\n",
       "        vertical-align: middle;\n",
       "    }\n",
       "\n",
       "    .dataframe tbody tr th {\n",
       "        vertical-align: top;\n",
       "    }\n",
       "\n",
       "    .dataframe thead th {\n",
       "        text-align: right;\n",
       "    }\n",
       "</style>\n",
       "<table border=\"1\" class=\"dataframe\">\n",
       "  <thead>\n",
       "    <tr style=\"text-align: right;\">\n",
       "      <th></th>\n",
       "      <th>ID</th>\n",
       "      <th>shop_id</th>\n",
       "      <th>item_id</th>\n",
       "      <th>date_block_num</th>\n",
       "      <th>month</th>\n",
       "      <th>year</th>\n",
       "      <th>target_shop</th>\n",
       "      <th>target_item</th>\n",
       "      <th>item_category_id</th>\n",
       "    </tr>\n",
       "  </thead>\n",
       "  <tbody>\n",
       "    <tr>\n",
       "      <th>0</th>\n",
       "      <td>0</td>\n",
       "      <td>5</td>\n",
       "      <td>5037</td>\n",
       "      <td>34</td>\n",
       "      <td>11</td>\n",
       "      <td>2015</td>\n",
       "      <td>1295.818182</td>\n",
       "      <td>90.714286</td>\n",
       "      <td>19</td>\n",
       "    </tr>\n",
       "    <tr>\n",
       "      <th>1</th>\n",
       "      <td>1</td>\n",
       "      <td>5</td>\n",
       "      <td>5320</td>\n",
       "      <td>34</td>\n",
       "      <td>11</td>\n",
       "      <td>2015</td>\n",
       "      <td>1295.818182</td>\n",
       "      <td>15.651483</td>\n",
       "      <td>55</td>\n",
       "    </tr>\n",
       "    <tr>\n",
       "      <th>2</th>\n",
       "      <td>2</td>\n",
       "      <td>5</td>\n",
       "      <td>5233</td>\n",
       "      <td>34</td>\n",
       "      <td>11</td>\n",
       "      <td>2015</td>\n",
       "      <td>1295.818182</td>\n",
       "      <td>72.428571</td>\n",
       "      <td>19</td>\n",
       "    </tr>\n",
       "    <tr>\n",
       "      <th>3</th>\n",
       "      <td>3</td>\n",
       "      <td>5</td>\n",
       "      <td>5232</td>\n",
       "      <td>34</td>\n",
       "      <td>11</td>\n",
       "      <td>2015</td>\n",
       "      <td>1295.818182</td>\n",
       "      <td>47.000000</td>\n",
       "      <td>23</td>\n",
       "    </tr>\n",
       "    <tr>\n",
       "      <th>4</th>\n",
       "      <td>4</td>\n",
       "      <td>5</td>\n",
       "      <td>5268</td>\n",
       "      <td>34</td>\n",
       "      <td>11</td>\n",
       "      <td>2015</td>\n",
       "      <td>1295.818182</td>\n",
       "      <td>15.651483</td>\n",
       "      <td>20</td>\n",
       "    </tr>\n",
       "  </tbody>\n",
       "</table>\n",
       "</div>"
      ],
      "text/plain": [
       "   ID  shop_id  item_id  date_block_num  month  year  target_shop  \\\n",
       "0   0        5     5037              34     11  2015  1295.818182   \n",
       "1   1        5     5320              34     11  2015  1295.818182   \n",
       "2   2        5     5233              34     11  2015  1295.818182   \n",
       "3   3        5     5232              34     11  2015  1295.818182   \n",
       "4   4        5     5268              34     11  2015  1295.818182   \n",
       "\n",
       "   target_item  item_category_id  \n",
       "0    90.714286                19  \n",
       "1    15.651483                55  \n",
       "2    72.428571                19  \n",
       "3    47.000000                23  \n",
       "4    15.651483                20  "
      ]
     },
     "execution_count": 15,
     "metadata": {},
     "output_type": "execute_result"
    }
   ],
   "source": [
    "test_data.head()"
   ]
  },
  {
   "cell_type": "markdown",
   "metadata": {},
   "source": [
    "add also category features:"
   ]
  },
  {
   "cell_type": "code",
   "execution_count": 16,
   "metadata": {},
   "outputs": [],
   "source": [
    "mean_t = all_data.target.mean()"
   ]
  },
  {
   "cell_type": "code",
   "execution_count": 17,
   "metadata": {},
   "outputs": [],
   "source": [
    "category = get_target(df, index_3, 'item_category_id', 'category', 'count')\n",
    "all_data = pd.merge(all_data, category, how='left', on=index_3).fillna(0)\n",
    "mean_c = all_data.category.mean()\n",
    "\n",
    "category_shop = get_target(df, ['shop_id', 'date_block_num'], 'item_category_id','category_shop', 'count')\n",
    "all_data = pd.merge(all_data, category_shop, how='left', on=['shop_id', 'date_block_num']).fillna(0)\n",
    "\n",
    "category_item = get_target(df, ['item_id', 'date_block_num'], 'item_category_id', 'category_item', 'count')\n",
    "all_data = pd.merge(all_data, category_item, how='left', on=['item_id', 'date_block_num']).fillna(0)"
   ]
  },
  {
   "cell_type": "code",
   "execution_count": 18,
   "metadata": {},
   "outputs": [],
   "source": [
    "temp = test_data.merge(category, how='left',on=index_cols)\n",
    "temp = temp.groupby(index_cols, as_index=False)[['category']].mean()\n",
    "test_data = pd.merge(test_data, temp, how='left', on=index_cols).fillna(mean_c)"
   ]
  },
  {
   "cell_type": "code",
   "execution_count": 19,
   "metadata": {},
   "outputs": [
    {
     "data": {
      "text/html": [
       "<div>\n",
       "<style scoped>\n",
       "    .dataframe tbody tr th:only-of-type {\n",
       "        vertical-align: middle;\n",
       "    }\n",
       "\n",
       "    .dataframe tbody tr th {\n",
       "        vertical-align: top;\n",
       "    }\n",
       "\n",
       "    .dataframe thead th {\n",
       "        text-align: right;\n",
       "    }\n",
       "</style>\n",
       "<table border=\"1\" class=\"dataframe\">\n",
       "  <thead>\n",
       "    <tr style=\"text-align: right;\">\n",
       "      <th></th>\n",
       "      <th>ID</th>\n",
       "      <th>shop_id</th>\n",
       "      <th>item_id</th>\n",
       "      <th>date_block_num</th>\n",
       "      <th>month</th>\n",
       "      <th>year</th>\n",
       "      <th>target_shop</th>\n",
       "      <th>target_item</th>\n",
       "      <th>item_category_id</th>\n",
       "      <th>category</th>\n",
       "    </tr>\n",
       "  </thead>\n",
       "  <tbody>\n",
       "    <tr>\n",
       "      <th>0</th>\n",
       "      <td>0</td>\n",
       "      <td>5</td>\n",
       "      <td>5037</td>\n",
       "      <td>34</td>\n",
       "      <td>11</td>\n",
       "      <td>2015</td>\n",
       "      <td>1295.818182</td>\n",
       "      <td>90.714286</td>\n",
       "      <td>19</td>\n",
       "      <td>1.444444</td>\n",
       "    </tr>\n",
       "    <tr>\n",
       "      <th>1</th>\n",
       "      <td>1</td>\n",
       "      <td>5</td>\n",
       "      <td>5320</td>\n",
       "      <td>34</td>\n",
       "      <td>11</td>\n",
       "      <td>2015</td>\n",
       "      <td>1295.818182</td>\n",
       "      <td>15.651483</td>\n",
       "      <td>55</td>\n",
       "      <td>0.269003</td>\n",
       "    </tr>\n",
       "    <tr>\n",
       "      <th>2</th>\n",
       "      <td>2</td>\n",
       "      <td>5</td>\n",
       "      <td>5233</td>\n",
       "      <td>34</td>\n",
       "      <td>11</td>\n",
       "      <td>2015</td>\n",
       "      <td>1295.818182</td>\n",
       "      <td>72.428571</td>\n",
       "      <td>19</td>\n",
       "      <td>1.800000</td>\n",
       "    </tr>\n",
       "    <tr>\n",
       "      <th>3</th>\n",
       "      <td>3</td>\n",
       "      <td>5</td>\n",
       "      <td>5232</td>\n",
       "      <td>34</td>\n",
       "      <td>11</td>\n",
       "      <td>2015</td>\n",
       "      <td>1295.818182</td>\n",
       "      <td>47.000000</td>\n",
       "      <td>23</td>\n",
       "      <td>1.000000</td>\n",
       "    </tr>\n",
       "    <tr>\n",
       "      <th>4</th>\n",
       "      <td>4</td>\n",
       "      <td>5</td>\n",
       "      <td>5268</td>\n",
       "      <td>34</td>\n",
       "      <td>11</td>\n",
       "      <td>2015</td>\n",
       "      <td>1295.818182</td>\n",
       "      <td>15.651483</td>\n",
       "      <td>20</td>\n",
       "      <td>0.269003</td>\n",
       "    </tr>\n",
       "  </tbody>\n",
       "</table>\n",
       "</div>"
      ],
      "text/plain": [
       "   ID  shop_id  item_id  date_block_num  month  year  target_shop  \\\n",
       "0   0        5     5037              34     11  2015  1295.818182   \n",
       "1   1        5     5320              34     11  2015  1295.818182   \n",
       "2   2        5     5233              34     11  2015  1295.818182   \n",
       "3   3        5     5232              34     11  2015  1295.818182   \n",
       "4   4        5     5268              34     11  2015  1295.818182   \n",
       "\n",
       "   target_item  item_category_id  category  \n",
       "0    90.714286                19  1.444444  \n",
       "1    15.651483                55  0.269003  \n",
       "2    72.428571                19  1.800000  \n",
       "3    47.000000                23  1.000000  \n",
       "4    15.651483                20  0.269003  "
      ]
     },
     "execution_count": 19,
     "metadata": {},
     "output_type": "execute_result"
    }
   ],
   "source": [
    "test_data.head()"
   ]
  },
  {
   "cell_type": "code",
   "execution_count": 20,
   "metadata": {},
   "outputs": [],
   "source": [
    "temp = test_data.merge(category_shop, how='left', on=['shop_id'])\n",
    "temp = temp.groupby('shop_id', as_index=False)[['category_shop']].mean()\n",
    "mean_cat = all_data.category_shop.mean()\n",
    "test_data = pd.merge(test_data, temp, how='left', on='shop_id').fillna(mean_cat)"
   ]
  },
  {
   "cell_type": "code",
   "execution_count": 21,
   "metadata": {},
   "outputs": [],
   "source": [
    "temp = test_data.merge(category_item, how='left', on=['item_id'])\n",
    "temp = temp.groupby('item_id', as_index=False)[['category_item']].mean()\n",
    "mean_cat = all_data.category_shop.mean()\n",
    "test_data = pd.merge(test_data, temp, how='left', on='item_id').fillna(mean_cat)"
   ]
  },
  {
   "cell_type": "markdown",
   "metadata": {},
   "source": [
    "Mean of target:"
   ]
  },
  {
   "cell_type": "code",
   "execution_count": 22,
   "metadata": {},
   "outputs": [
    {
     "data": {
      "text/plain": [
       "(10913804, 13)"
      ]
     },
     "execution_count": 22,
     "metadata": {},
     "output_type": "execute_result"
    }
   ],
   "source": [
    "target_mean = all_data[['shop_id','item_id','target']].groupby(index_cols, as_index=False)[['target']].mean()\n",
    "target_mean = target_mean.rename(columns={'target':'target_mean'})\n",
    "all_data = pd.merge(all_data, target_mean, how='left', on=index_cols).fillna(0)\n",
    "test_data = pd.merge(test_data, target_mean, how='left', on=index_cols).fillna(mean_t)\n",
    "all_data.shape"
   ]
  },
  {
   "cell_type": "markdown",
   "metadata": {},
   "source": [
    "Add the same features of `all_data` to the `test_data`:"
   ]
  },
  {
   "cell_type": "code",
   "execution_count": 23,
   "metadata": {},
   "outputs": [],
   "source": [
    "test_data.loc[:,'date_block_num'] = all_data.date_block_num.max()+1\n",
    "\n",
    "for col in all_data.columns.values:\n",
    "    if col not in test_data.columns.values:\n",
    "        test_data.loc[:,col] = 0"
   ]
  },
  {
   "cell_type": "code",
   "execution_count": 24,
   "metadata": {},
   "outputs": [],
   "source": [
    "test_data = test_data.drop(['ID'], axis=1)"
   ]
  },
  {
   "cell_type": "markdown",
   "metadata": {},
   "source": [
    "Concatenate test and train data for further feature engineering:"
   ]
  },
  {
   "cell_type": "code",
   "execution_count": 25,
   "metadata": {},
   "outputs": [
    {
     "name": "stdout",
     "output_type": "stream",
     "text": [
      "(10913804, 13) (214200, 13) (11128004, 13)\n"
     ]
    }
   ],
   "source": [
    "features = all_data.columns.values\n",
    "ntrain = all_data.shape\n",
    "ntest = test_data.shape\n",
    "merged_data = pd.concat([all_data[features], test_data[features]], ignore_index=True, copy=False)\n",
    "\n",
    "print(ntrain, ntest, merged_data.shape)"
   ]
  },
  {
   "cell_type": "markdown",
   "metadata": {},
   "source": [
    "I am not interested in the names of shop, item or categories as features:"
   ]
  },
  {
   "cell_type": "code",
   "execution_count": 26,
   "metadata": {},
   "outputs": [
    {
     "name": "stdout",
     "output_type": "stream",
     "text": [
      "<class 'pandas.core.frame.DataFrame'>\n",
      "RangeIndex: 11128004 entries, 0 to 11128003\n",
      "Data columns (total 13 columns):\n",
      "shop_id             int32\n",
      "item_id             int32\n",
      "date_block_num      int32\n",
      "target              float32\n",
      "month               int32\n",
      "year                int32\n",
      "target_shop         float32\n",
      "target_item         float32\n",
      "item_category_id    int32\n",
      "category            float32\n",
      "category_shop       float32\n",
      "category_item       float32\n",
      "target_mean         float32\n",
      "dtypes: float32(7), int32(6)\n",
      "memory usage: 551.8 MB\n"
     ]
    }
   ],
   "source": [
    "#merged_data = merged_data.drop(['item_name', 'item_category_name', 'shop_name'], axis=1)\n",
    "merged_data = downcast_dtypes(merged_data)\n",
    "merged_data.info()"
   ]
  },
  {
   "cell_type": "code",
   "execution_count": 27,
   "metadata": {},
   "outputs": [
    {
     "data": {
      "text/plain": [
       "74"
      ]
     },
     "execution_count": 27,
     "metadata": {},
     "output_type": "execute_result"
    }
   ],
   "source": [
    "del all_data\n",
    "gc.collect()"
   ]
  },
  {
   "cell_type": "markdown",
   "metadata": {},
   "source": [
    "Mean encoded features:"
   ]
  },
  {
   "cell_type": "code",
   "execution_count": 28,
   "metadata": {},
   "outputs": [],
   "source": [
    "merged_data  = k_fold_mean(merged_data, 'target', mean_t, 'item_id')\n",
    "merged_data = merged_data.rename(columns={'new_name':'target_kf'})\n",
    "merged_data = loo_mean(merged_data, 'target', mean_t, 'item_id')\n",
    "merged_data = merged_data.rename(columns={'new_name':'target_loo'})\n",
    "merged_data = smoothing_mean(merged_data, 'target', mean_t, 'item_id')\n",
    "merged_data = merged_data.rename(columns={'new_name':'target_sm'})\n",
    "merged_data = expanding_mean(merged_data, 'target', mean_t, 'item_id')\n",
    "merged_data = merged_data.rename(columns={'new_name':'target_exp'})"
   ]
  },
  {
   "cell_type": "code",
   "execution_count": 29,
   "metadata": {},
   "outputs": [
    {
     "data": {
      "text/html": [
       "<div>\n",
       "<style scoped>\n",
       "    .dataframe tbody tr th:only-of-type {\n",
       "        vertical-align: middle;\n",
       "    }\n",
       "\n",
       "    .dataframe tbody tr th {\n",
       "        vertical-align: top;\n",
       "    }\n",
       "\n",
       "    .dataframe thead th {\n",
       "        text-align: right;\n",
       "    }\n",
       "</style>\n",
       "<table border=\"1\" class=\"dataframe\">\n",
       "  <thead>\n",
       "    <tr style=\"text-align: right;\">\n",
       "      <th></th>\n",
       "      <th>shop_id</th>\n",
       "      <th>item_id</th>\n",
       "      <th>date_block_num</th>\n",
       "      <th>target</th>\n",
       "      <th>month</th>\n",
       "      <th>year</th>\n",
       "      <th>target_shop</th>\n",
       "      <th>target_item</th>\n",
       "      <th>item_category_id</th>\n",
       "      <th>category</th>\n",
       "      <th>...</th>\n",
       "      <th>category_item</th>\n",
       "      <th>target_mean</th>\n",
       "      <th>target_kf</th>\n",
       "      <th>target_loo</th>\n",
       "      <th>target_sm</th>\n",
       "      <th>target_exp</th>\n",
       "      <th>category_kf</th>\n",
       "      <th>category_loo</th>\n",
       "      <th>category_sm</th>\n",
       "      <th>category_exp</th>\n",
       "    </tr>\n",
       "  </thead>\n",
       "  <tbody>\n",
       "    <tr>\n",
       "      <th>0</th>\n",
       "      <td>0</td>\n",
       "      <td>12</td>\n",
       "      <td>1</td>\n",
       "      <td>0.0</td>\n",
       "      <td>2</td>\n",
       "      <td>2013</td>\n",
       "      <td>6127.0</td>\n",
       "      <td>1.0</td>\n",
       "      <td>55</td>\n",
       "      <td>0.0</td>\n",
       "      <td>...</td>\n",
       "      <td>1.0</td>\n",
       "      <td>0.0</td>\n",
       "      <td>0.030303</td>\n",
       "      <td>0.022222</td>\n",
       "      <td>0.235804</td>\n",
       "      <td>0.334274</td>\n",
       "      <td>0.269003</td>\n",
       "      <td>0.605392</td>\n",
       "      <td>0.603302</td>\n",
       "      <td>0.269003</td>\n",
       "    </tr>\n",
       "    <tr>\n",
       "      <th>1</th>\n",
       "      <td>0</td>\n",
       "      <td>19</td>\n",
       "      <td>0</td>\n",
       "      <td>0.0</td>\n",
       "      <td>1</td>\n",
       "      <td>2013</td>\n",
       "      <td>5578.0</td>\n",
       "      <td>1.0</td>\n",
       "      <td>40</td>\n",
       "      <td>0.0</td>\n",
       "      <td>...</td>\n",
       "      <td>1.0</td>\n",
       "      <td>0.0</td>\n",
       "      <td>0.030303</td>\n",
       "      <td>0.022727</td>\n",
       "      <td>0.237431</td>\n",
       "      <td>0.334274</td>\n",
       "      <td>0.269003</td>\n",
       "      <td>0.605392</td>\n",
       "      <td>0.603302</td>\n",
       "      <td>0.000000</td>\n",
       "    </tr>\n",
       "    <tr>\n",
       "      <th>2</th>\n",
       "      <td>0</td>\n",
       "      <td>27</td>\n",
       "      <td>0</td>\n",
       "      <td>0.0</td>\n",
       "      <td>1</td>\n",
       "      <td>2013</td>\n",
       "      <td>5578.0</td>\n",
       "      <td>7.0</td>\n",
       "      <td>19</td>\n",
       "      <td>0.0</td>\n",
       "      <td>...</td>\n",
       "      <td>7.0</td>\n",
       "      <td>0.0</td>\n",
       "      <td>0.049037</td>\n",
       "      <td>0.056911</td>\n",
       "      <td>0.089902</td>\n",
       "      <td>0.334274</td>\n",
       "      <td>0.269003</td>\n",
       "      <td>0.605392</td>\n",
       "      <td>0.603302</td>\n",
       "      <td>0.000000</td>\n",
       "    </tr>\n",
       "    <tr>\n",
       "      <th>3</th>\n",
       "      <td>0</td>\n",
       "      <td>27</td>\n",
       "      <td>1</td>\n",
       "      <td>0.0</td>\n",
       "      <td>2</td>\n",
       "      <td>2013</td>\n",
       "      <td>6127.0</td>\n",
       "      <td>3.0</td>\n",
       "      <td>19</td>\n",
       "      <td>0.0</td>\n",
       "      <td>...</td>\n",
       "      <td>3.0</td>\n",
       "      <td>0.0</td>\n",
       "      <td>0.049037</td>\n",
       "      <td>0.056911</td>\n",
       "      <td>0.089902</td>\n",
       "      <td>0.000000</td>\n",
       "      <td>0.269003</td>\n",
       "      <td>0.605392</td>\n",
       "      <td>0.603302</td>\n",
       "      <td>0.000000</td>\n",
       "    </tr>\n",
       "    <tr>\n",
       "      <th>4</th>\n",
       "      <td>0</td>\n",
       "      <td>28</td>\n",
       "      <td>0</td>\n",
       "      <td>0.0</td>\n",
       "      <td>1</td>\n",
       "      <td>2013</td>\n",
       "      <td>5578.0</td>\n",
       "      <td>8.0</td>\n",
       "      <td>30</td>\n",
       "      <td>0.0</td>\n",
       "      <td>...</td>\n",
       "      <td>8.0</td>\n",
       "      <td>0.0</td>\n",
       "      <td>0.170678</td>\n",
       "      <td>0.141414</td>\n",
       "      <td>0.168960</td>\n",
       "      <td>0.334274</td>\n",
       "      <td>0.269003</td>\n",
       "      <td>0.605392</td>\n",
       "      <td>0.603302</td>\n",
       "      <td>0.000000</td>\n",
       "    </tr>\n",
       "  </tbody>\n",
       "</table>\n",
       "<p>5 rows × 21 columns</p>\n",
       "</div>"
      ],
      "text/plain": [
       "   shop_id  item_id  date_block_num  target  month  year  target_shop  \\\n",
       "0        0       12               1     0.0      2  2013       6127.0   \n",
       "1        0       19               0     0.0      1  2013       5578.0   \n",
       "2        0       27               0     0.0      1  2013       5578.0   \n",
       "3        0       27               1     0.0      2  2013       6127.0   \n",
       "4        0       28               0     0.0      1  2013       5578.0   \n",
       "\n",
       "   target_item  item_category_id  category      ...       category_item  \\\n",
       "0          1.0                55       0.0      ...                 1.0   \n",
       "1          1.0                40       0.0      ...                 1.0   \n",
       "2          7.0                19       0.0      ...                 7.0   \n",
       "3          3.0                19       0.0      ...                 3.0   \n",
       "4          8.0                30       0.0      ...                 8.0   \n",
       "\n",
       "   target_mean  target_kf  target_loo  target_sm  target_exp  category_kf  \\\n",
       "0          0.0   0.030303    0.022222   0.235804    0.334274     0.269003   \n",
       "1          0.0   0.030303    0.022727   0.237431    0.334274     0.269003   \n",
       "2          0.0   0.049037    0.056911   0.089902    0.334274     0.269003   \n",
       "3          0.0   0.049037    0.056911   0.089902    0.000000     0.269003   \n",
       "4          0.0   0.170678    0.141414   0.168960    0.334274     0.269003   \n",
       "\n",
       "   category_loo  category_sm  category_exp  \n",
       "0      0.605392     0.603302      0.269003  \n",
       "1      0.605392     0.603302      0.000000  \n",
       "2      0.605392     0.603302      0.000000  \n",
       "3      0.605392     0.603302      0.000000  \n",
       "4      0.605392     0.603302      0.000000  \n",
       "\n",
       "[5 rows x 21 columns]"
      ]
     },
     "execution_count": 29,
     "metadata": {},
     "output_type": "execute_result"
    }
   ],
   "source": [
    "merged_data = k_fold_mean(merged_data, 'category', mean_c, 'shop_id')\n",
    "merged_data = merged_data.rename(columns={'new_name':'category_kf'})\n",
    "merged_data = loo_mean(merged_data, 'category', mean_c, 'shop_id')\n",
    "merged_data = merged_data.rename(columns={'new_name':'category_loo'})\n",
    "merged_data = smoothing_mean(merged_data, 'category', mean_c, 'shop_id')\n",
    "merged_data = merged_data.rename(columns={'new_name':'category_sm'})\n",
    "merged_data = expanding_mean(merged_data, 'category', mean_c, 'shop_id')\n",
    "merged_data = merged_data.rename(columns={'new_name':'category_exp'})\n",
    "merged_data.head()"
   ]
  },
  {
   "cell_type": "markdown",
   "metadata": {},
   "source": [
    "Lagged Features:"
   ]
  },
  {
   "cell_type": "code",
   "execution_count": 30,
   "metadata": {},
   "outputs": [
    {
     "data": {
      "application/vnd.jupyter.widget-view+json": {
       "model_id": "986df3ba27b24dd3b3f1fc3f9cb0977f",
       "version_major": 2,
       "version_minor": 0
      },
      "text/html": [
       "<p>Failed to display Jupyter Widget of type <code>HBox</code>.</p>\n",
       "<p>\n",
       "  If you're reading this message in the Jupyter Notebook or JupyterLab Notebook, it may mean\n",
       "  that the widgets JavaScript is still loading. If this message persists, it\n",
       "  likely means that the widgets JavaScript library is either not installed or\n",
       "  not enabled. See the <a href=\"https://ipywidgets.readthedocs.io/en/stable/user_install.html\">Jupyter\n",
       "  Widgets Documentation</a> for setup instructions.\n",
       "</p>\n",
       "<p>\n",
       "  If you're reading this message in another frontend (for example, a static\n",
       "  rendering on GitHub or <a href=\"https://nbviewer.jupyter.org/\">NBViewer</a>),\n",
       "  it may mean that your frontend doesn't currently support widgets.\n",
       "</p>\n"
      ],
      "text/plain": [
       "HBox(children=(IntProgress(value=0, max=4), HTML(value='')))"
      ]
     },
     "metadata": {},
     "output_type": "display_data"
    },
    {
     "name": "stdout",
     "output_type": "stream",
     "text": [
      "\n"
     ]
    }
   ],
   "source": [
    "# List of columns that we will use to create lags\n",
    "cols_to_rename = list(merged_data.columns.difference(index_3)) \n",
    "\n",
    "shift_range = [1, 3, 5, 9]\n",
    "\n",
    "for month_shift in tqdm_notebook(shift_range):\n",
    "    train_shift = merged_data[index_3 + cols_to_rename].copy()\n",
    "    \n",
    "    train_shift['date_block_num'] = train_shift['date_block_num'] + month_shift\n",
    "    \n",
    "    foo = lambda x: '{}_lag_{}'.format(x, month_shift) if x in cols_to_rename else x\n",
    "    train_shift = train_shift.rename(columns=foo)\n",
    "\n",
    "    merged_data = pd.merge(merged_data, train_shift, on=index_3, how='left').fillna(0)\n",
    "\n",
    "del train_shift"
   ]
  },
  {
   "cell_type": "code",
   "execution_count": 31,
   "metadata": {},
   "outputs": [],
   "source": [
    "# Don't use old data from year 2013\n",
    "#merged_data = merged_data[merged_data['date_block_num'] >= 12] \n",
    "\n",
    "# List of all lagged features\n",
    "fit_cols = [col for col in merged_data.columns if col[-1] in [str(item) for item in shift_range]] \n",
    "# We will drop these at fitting stage\n",
    "to_drop_cols = list(set(list(merged_data.columns)) - (set(fit_cols)|set(index_3))) + ['date_block_num'] \n",
    "\n",
    "# Category for each item\n",
    "item_category_mapping = items[['item_id','item_category_id']].drop_duplicates()"
   ]
  },
  {
   "cell_type": "code",
   "execution_count": 32,
   "metadata": {},
   "outputs": [
    {
     "data": {
      "text/html": [
       "<div>\n",
       "<style scoped>\n",
       "    .dataframe tbody tr th:only-of-type {\n",
       "        vertical-align: middle;\n",
       "    }\n",
       "\n",
       "    .dataframe tbody tr th {\n",
       "        vertical-align: top;\n",
       "    }\n",
       "\n",
       "    .dataframe thead th {\n",
       "        text-align: right;\n",
       "    }\n",
       "</style>\n",
       "<table border=\"1\" class=\"dataframe\">\n",
       "  <thead>\n",
       "    <tr style=\"text-align: right;\">\n",
       "      <th></th>\n",
       "      <th>shop_id</th>\n",
       "      <th>item_id</th>\n",
       "      <th>date_block_num</th>\n",
       "      <th>target</th>\n",
       "      <th>month</th>\n",
       "      <th>year</th>\n",
       "      <th>target_shop</th>\n",
       "      <th>target_item</th>\n",
       "      <th>item_category_id</th>\n",
       "      <th>category</th>\n",
       "      <th>...</th>\n",
       "      <th>month_lag_9</th>\n",
       "      <th>target_lag_9</th>\n",
       "      <th>target_exp_lag_9</th>\n",
       "      <th>target_item_lag_9</th>\n",
       "      <th>target_kf_lag_9</th>\n",
       "      <th>target_loo_lag_9</th>\n",
       "      <th>target_mean_lag_9</th>\n",
       "      <th>target_shop_lag_9</th>\n",
       "      <th>target_sm_lag_9</th>\n",
       "      <th>year_lag_9</th>\n",
       "    </tr>\n",
       "  </thead>\n",
       "  <tbody>\n",
       "    <tr>\n",
       "      <th>0</th>\n",
       "      <td>0</td>\n",
       "      <td>12</td>\n",
       "      <td>1</td>\n",
       "      <td>0.0</td>\n",
       "      <td>2</td>\n",
       "      <td>2013</td>\n",
       "      <td>6127.0</td>\n",
       "      <td>1.0</td>\n",
       "      <td>55</td>\n",
       "      <td>0.0</td>\n",
       "      <td>...</td>\n",
       "      <td>0.0</td>\n",
       "      <td>0.0</td>\n",
       "      <td>0.0</td>\n",
       "      <td>0.0</td>\n",
       "      <td>0.0</td>\n",
       "      <td>0.0</td>\n",
       "      <td>0.0</td>\n",
       "      <td>0.0</td>\n",
       "      <td>0.0</td>\n",
       "      <td>0.0</td>\n",
       "    </tr>\n",
       "    <tr>\n",
       "      <th>1</th>\n",
       "      <td>0</td>\n",
       "      <td>19</td>\n",
       "      <td>0</td>\n",
       "      <td>0.0</td>\n",
       "      <td>1</td>\n",
       "      <td>2013</td>\n",
       "      <td>5578.0</td>\n",
       "      <td>1.0</td>\n",
       "      <td>40</td>\n",
       "      <td>0.0</td>\n",
       "      <td>...</td>\n",
       "      <td>0.0</td>\n",
       "      <td>0.0</td>\n",
       "      <td>0.0</td>\n",
       "      <td>0.0</td>\n",
       "      <td>0.0</td>\n",
       "      <td>0.0</td>\n",
       "      <td>0.0</td>\n",
       "      <td>0.0</td>\n",
       "      <td>0.0</td>\n",
       "      <td>0.0</td>\n",
       "    </tr>\n",
       "    <tr>\n",
       "      <th>2</th>\n",
       "      <td>0</td>\n",
       "      <td>27</td>\n",
       "      <td>0</td>\n",
       "      <td>0.0</td>\n",
       "      <td>1</td>\n",
       "      <td>2013</td>\n",
       "      <td>5578.0</td>\n",
       "      <td>7.0</td>\n",
       "      <td>19</td>\n",
       "      <td>0.0</td>\n",
       "      <td>...</td>\n",
       "      <td>0.0</td>\n",
       "      <td>0.0</td>\n",
       "      <td>0.0</td>\n",
       "      <td>0.0</td>\n",
       "      <td>0.0</td>\n",
       "      <td>0.0</td>\n",
       "      <td>0.0</td>\n",
       "      <td>0.0</td>\n",
       "      <td>0.0</td>\n",
       "      <td>0.0</td>\n",
       "    </tr>\n",
       "    <tr>\n",
       "      <th>3</th>\n",
       "      <td>0</td>\n",
       "      <td>27</td>\n",
       "      <td>1</td>\n",
       "      <td>0.0</td>\n",
       "      <td>2</td>\n",
       "      <td>2013</td>\n",
       "      <td>6127.0</td>\n",
       "      <td>3.0</td>\n",
       "      <td>19</td>\n",
       "      <td>0.0</td>\n",
       "      <td>...</td>\n",
       "      <td>0.0</td>\n",
       "      <td>0.0</td>\n",
       "      <td>0.0</td>\n",
       "      <td>0.0</td>\n",
       "      <td>0.0</td>\n",
       "      <td>0.0</td>\n",
       "      <td>0.0</td>\n",
       "      <td>0.0</td>\n",
       "      <td>0.0</td>\n",
       "      <td>0.0</td>\n",
       "    </tr>\n",
       "    <tr>\n",
       "      <th>4</th>\n",
       "      <td>0</td>\n",
       "      <td>28</td>\n",
       "      <td>0</td>\n",
       "      <td>0.0</td>\n",
       "      <td>1</td>\n",
       "      <td>2013</td>\n",
       "      <td>5578.0</td>\n",
       "      <td>8.0</td>\n",
       "      <td>30</td>\n",
       "      <td>0.0</td>\n",
       "      <td>...</td>\n",
       "      <td>0.0</td>\n",
       "      <td>0.0</td>\n",
       "      <td>0.0</td>\n",
       "      <td>0.0</td>\n",
       "      <td>0.0</td>\n",
       "      <td>0.0</td>\n",
       "      <td>0.0</td>\n",
       "      <td>0.0</td>\n",
       "      <td>0.0</td>\n",
       "      <td>0.0</td>\n",
       "    </tr>\n",
       "  </tbody>\n",
       "</table>\n",
       "<p>5 rows × 93 columns</p>\n",
       "</div>"
      ],
      "text/plain": [
       "   shop_id  item_id  date_block_num  target  month  year  target_shop  \\\n",
       "0        0       12               1     0.0      2  2013       6127.0   \n",
       "1        0       19               0     0.0      1  2013       5578.0   \n",
       "2        0       27               0     0.0      1  2013       5578.0   \n",
       "3        0       27               1     0.0      2  2013       6127.0   \n",
       "4        0       28               0     0.0      1  2013       5578.0   \n",
       "\n",
       "   target_item  item_category_id  category     ...      month_lag_9  \\\n",
       "0          1.0                55       0.0     ...              0.0   \n",
       "1          1.0                40       0.0     ...              0.0   \n",
       "2          7.0                19       0.0     ...              0.0   \n",
       "3          3.0                19       0.0     ...              0.0   \n",
       "4          8.0                30       0.0     ...              0.0   \n",
       "\n",
       "   target_lag_9  target_exp_lag_9  target_item_lag_9  target_kf_lag_9  \\\n",
       "0           0.0               0.0                0.0              0.0   \n",
       "1           0.0               0.0                0.0              0.0   \n",
       "2           0.0               0.0                0.0              0.0   \n",
       "3           0.0               0.0                0.0              0.0   \n",
       "4           0.0               0.0                0.0              0.0   \n",
       "\n",
       "   target_loo_lag_9  target_mean_lag_9  target_shop_lag_9  target_sm_lag_9  \\\n",
       "0               0.0                0.0                0.0              0.0   \n",
       "1               0.0                0.0                0.0              0.0   \n",
       "2               0.0                0.0                0.0              0.0   \n",
       "3               0.0                0.0                0.0              0.0   \n",
       "4               0.0                0.0                0.0              0.0   \n",
       "\n",
       "   year_lag_9  \n",
       "0         0.0  \n",
       "1         0.0  \n",
       "2         0.0  \n",
       "3         0.0  \n",
       "4         0.0  \n",
       "\n",
       "[5 rows x 93 columns]"
      ]
     },
     "execution_count": 32,
     "metadata": {},
     "output_type": "execute_result"
    }
   ],
   "source": [
    "merged_data = pd.merge(merged_data, item_category_mapping, how='left', on=['item_id','item_category_id'])\n",
    "merged_data.head()"
   ]
  },
  {
   "cell_type": "code",
   "execution_count": 33,
   "metadata": {},
   "outputs": [
    {
     "data": {
      "text/plain": [
       "['target',\n",
       " 'month',\n",
       " 'category_shop',\n",
       " 'year',\n",
       " 'category',\n",
       " 'category_kf',\n",
       " 'category_loo',\n",
       " 'target_kf',\n",
       " 'category_item',\n",
       " 'category_exp',\n",
       " 'target_exp',\n",
       " 'target_item',\n",
       " 'target_mean',\n",
       " 'target_shop',\n",
       " 'target_sm',\n",
       " 'target_loo',\n",
       " 'category_sm',\n",
       " 'item_category_id',\n",
       " 'date_block_num']"
      ]
     },
     "execution_count": 33,
     "metadata": {},
     "output_type": "execute_result"
    }
   ],
   "source": [
    "to_drop_cols"
   ]
  },
  {
   "cell_type": "code",
   "execution_count": 34,
   "metadata": {},
   "outputs": [
    {
     "data": {
      "text/html": [
       "<div>\n",
       "<style scoped>\n",
       "    .dataframe tbody tr th:only-of-type {\n",
       "        vertical-align: middle;\n",
       "    }\n",
       "\n",
       "    .dataframe tbody tr th {\n",
       "        vertical-align: top;\n",
       "    }\n",
       "\n",
       "    .dataframe thead th {\n",
       "        text-align: right;\n",
       "    }\n",
       "</style>\n",
       "<table border=\"1\" class=\"dataframe\">\n",
       "  <thead>\n",
       "    <tr style=\"text-align: right;\">\n",
       "      <th></th>\n",
       "      <th>shop_id</th>\n",
       "      <th>item_id</th>\n",
       "      <th>date_block_num</th>\n",
       "      <th>target</th>\n",
       "      <th>month</th>\n",
       "      <th>year</th>\n",
       "      <th>target_shop</th>\n",
       "      <th>target_item</th>\n",
       "      <th>item_category_id</th>\n",
       "      <th>category</th>\n",
       "      <th>...</th>\n",
       "      <th>month_lag_9</th>\n",
       "      <th>target_lag_9</th>\n",
       "      <th>target_exp_lag_9</th>\n",
       "      <th>target_item_lag_9</th>\n",
       "      <th>target_kf_lag_9</th>\n",
       "      <th>target_loo_lag_9</th>\n",
       "      <th>target_mean_lag_9</th>\n",
       "      <th>target_shop_lag_9</th>\n",
       "      <th>target_sm_lag_9</th>\n",
       "      <th>year_lag_9</th>\n",
       "    </tr>\n",
       "  </thead>\n",
       "  <tbody>\n",
       "    <tr>\n",
       "      <th>0</th>\n",
       "      <td>0</td>\n",
       "      <td>12</td>\n",
       "      <td>1</td>\n",
       "      <td>0.0</td>\n",
       "      <td>2</td>\n",
       "      <td>2013</td>\n",
       "      <td>6127.0</td>\n",
       "      <td>1.0</td>\n",
       "      <td>55</td>\n",
       "      <td>0.0</td>\n",
       "      <td>...</td>\n",
       "      <td>0.0</td>\n",
       "      <td>0.0</td>\n",
       "      <td>0.0</td>\n",
       "      <td>0.0</td>\n",
       "      <td>0.0</td>\n",
       "      <td>0.0</td>\n",
       "      <td>0.0</td>\n",
       "      <td>0.0</td>\n",
       "      <td>0.0</td>\n",
       "      <td>0.0</td>\n",
       "    </tr>\n",
       "    <tr>\n",
       "      <th>1</th>\n",
       "      <td>0</td>\n",
       "      <td>19</td>\n",
       "      <td>0</td>\n",
       "      <td>0.0</td>\n",
       "      <td>1</td>\n",
       "      <td>2013</td>\n",
       "      <td>5578.0</td>\n",
       "      <td>1.0</td>\n",
       "      <td>40</td>\n",
       "      <td>0.0</td>\n",
       "      <td>...</td>\n",
       "      <td>0.0</td>\n",
       "      <td>0.0</td>\n",
       "      <td>0.0</td>\n",
       "      <td>0.0</td>\n",
       "      <td>0.0</td>\n",
       "      <td>0.0</td>\n",
       "      <td>0.0</td>\n",
       "      <td>0.0</td>\n",
       "      <td>0.0</td>\n",
       "      <td>0.0</td>\n",
       "    </tr>\n",
       "    <tr>\n",
       "      <th>2</th>\n",
       "      <td>0</td>\n",
       "      <td>27</td>\n",
       "      <td>0</td>\n",
       "      <td>0.0</td>\n",
       "      <td>1</td>\n",
       "      <td>2013</td>\n",
       "      <td>5578.0</td>\n",
       "      <td>7.0</td>\n",
       "      <td>19</td>\n",
       "      <td>0.0</td>\n",
       "      <td>...</td>\n",
       "      <td>0.0</td>\n",
       "      <td>0.0</td>\n",
       "      <td>0.0</td>\n",
       "      <td>0.0</td>\n",
       "      <td>0.0</td>\n",
       "      <td>0.0</td>\n",
       "      <td>0.0</td>\n",
       "      <td>0.0</td>\n",
       "      <td>0.0</td>\n",
       "      <td>0.0</td>\n",
       "    </tr>\n",
       "    <tr>\n",
       "      <th>3</th>\n",
       "      <td>0</td>\n",
       "      <td>27</td>\n",
       "      <td>1</td>\n",
       "      <td>0.0</td>\n",
       "      <td>2</td>\n",
       "      <td>2013</td>\n",
       "      <td>6127.0</td>\n",
       "      <td>3.0</td>\n",
       "      <td>19</td>\n",
       "      <td>0.0</td>\n",
       "      <td>...</td>\n",
       "      <td>0.0</td>\n",
       "      <td>0.0</td>\n",
       "      <td>0.0</td>\n",
       "      <td>0.0</td>\n",
       "      <td>0.0</td>\n",
       "      <td>0.0</td>\n",
       "      <td>0.0</td>\n",
       "      <td>0.0</td>\n",
       "      <td>0.0</td>\n",
       "      <td>0.0</td>\n",
       "    </tr>\n",
       "    <tr>\n",
       "      <th>4</th>\n",
       "      <td>0</td>\n",
       "      <td>28</td>\n",
       "      <td>0</td>\n",
       "      <td>0.0</td>\n",
       "      <td>1</td>\n",
       "      <td>2013</td>\n",
       "      <td>5578.0</td>\n",
       "      <td>8.0</td>\n",
       "      <td>30</td>\n",
       "      <td>0.0</td>\n",
       "      <td>...</td>\n",
       "      <td>0.0</td>\n",
       "      <td>0.0</td>\n",
       "      <td>0.0</td>\n",
       "      <td>0.0</td>\n",
       "      <td>0.0</td>\n",
       "      <td>0.0</td>\n",
       "      <td>0.0</td>\n",
       "      <td>0.0</td>\n",
       "      <td>0.0</td>\n",
       "      <td>0.0</td>\n",
       "    </tr>\n",
       "  </tbody>\n",
       "</table>\n",
       "<p>5 rows × 93 columns</p>\n",
       "</div>"
      ],
      "text/plain": [
       "   shop_id  item_id  date_block_num  target  month  year  target_shop  \\\n",
       "0        0       12               1     0.0      2  2013       6127.0   \n",
       "1        0       19               0     0.0      1  2013       5578.0   \n",
       "2        0       27               0     0.0      1  2013       5578.0   \n",
       "3        0       27               1     0.0      2  2013       6127.0   \n",
       "4        0       28               0     0.0      1  2013       5578.0   \n",
       "\n",
       "   target_item  item_category_id  category     ...      month_lag_9  \\\n",
       "0          1.0                55       0.0     ...              0.0   \n",
       "1          1.0                40       0.0     ...              0.0   \n",
       "2          7.0                19       0.0     ...              0.0   \n",
       "3          3.0                19       0.0     ...              0.0   \n",
       "4          8.0                30       0.0     ...              0.0   \n",
       "\n",
       "   target_lag_9  target_exp_lag_9  target_item_lag_9  target_kf_lag_9  \\\n",
       "0           0.0               0.0                0.0              0.0   \n",
       "1           0.0               0.0                0.0              0.0   \n",
       "2           0.0               0.0                0.0              0.0   \n",
       "3           0.0               0.0                0.0              0.0   \n",
       "4           0.0               0.0                0.0              0.0   \n",
       "\n",
       "   target_loo_lag_9  target_mean_lag_9  target_shop_lag_9  target_sm_lag_9  \\\n",
       "0               0.0                0.0                0.0              0.0   \n",
       "1               0.0                0.0                0.0              0.0   \n",
       "2               0.0                0.0                0.0              0.0   \n",
       "3               0.0                0.0                0.0              0.0   \n",
       "4               0.0                0.0                0.0              0.0   \n",
       "\n",
       "   year_lag_9  \n",
       "0         0.0  \n",
       "1         0.0  \n",
       "2         0.0  \n",
       "3         0.0  \n",
       "4         0.0  \n",
       "\n",
       "[5 rows x 93 columns]"
      ]
     },
     "execution_count": 34,
     "metadata": {},
     "output_type": "execute_result"
    }
   ],
   "source": [
    "merged_data.head()"
   ]
  },
  {
   "cell_type": "markdown",
   "metadata": {},
   "source": [
    "### Split the data into train, validation and test:"
   ]
  },
  {
   "cell_type": "code",
   "execution_count": 35,
   "metadata": {},
   "outputs": [
    {
     "ename": "NameError",
     "evalue": "name 'y' is not defined",
     "output_type": "error",
     "traceback": [
      "\u001b[0;31m---------------------------------------------------------------------------\u001b[0m",
      "\u001b[0;31mNameError\u001b[0m                                 Traceback (most recent call last)",
      "\u001b[0;32m<ipython-input-35-86080cf55892>\u001b[0m in \u001b[0;36m<module>\u001b[0;34m()\u001b[0m\n\u001b[1;32m     11\u001b[0m \u001b[0mX_test\u001b[0m \u001b[0;34m=\u001b[0m \u001b[0mmerged_data\u001b[0m\u001b[0;34m.\u001b[0m\u001b[0mloc\u001b[0m\u001b[0;34m[\u001b[0m\u001b[0mdates\u001b[0m \u001b[0;34m==\u001b[0m \u001b[0mlast_block\u001b[0m\u001b[0;34m]\u001b[0m\u001b[0;34m.\u001b[0m\u001b[0mdrop\u001b[0m\u001b[0;34m(\u001b[0m\u001b[0mto_drop_cols\u001b[0m\u001b[0;34m,\u001b[0m \u001b[0maxis\u001b[0m\u001b[0;34m=\u001b[0m\u001b[0;36m1\u001b[0m\u001b[0;34m)\u001b[0m\u001b[0;34m\u001b[0m\u001b[0m\n\u001b[1;32m     12\u001b[0m \u001b[0;34m\u001b[0m\u001b[0m\n\u001b[0;32m---> 13\u001b[0;31m \u001b[0my_train\u001b[0m \u001b[0;34m=\u001b[0m \u001b[0my\u001b[0m\u001b[0;34m.\u001b[0m\u001b[0mloc\u001b[0m\u001b[0;34m[\u001b[0m\u001b[0mdates\u001b[0m \u001b[0;34m<\u001b[0m \u001b[0mprev_block\u001b[0m\u001b[0;34m,\u001b[0m \u001b[0;34m'target'\u001b[0m\u001b[0;34m]\u001b[0m\u001b[0;34m\u001b[0m\u001b[0m\n\u001b[0m\u001b[1;32m     14\u001b[0m \u001b[0my_valid\u001b[0m \u001b[0;34m=\u001b[0m \u001b[0my\u001b[0m\u001b[0;34m.\u001b[0m\u001b[0mloc\u001b[0m\u001b[0;34m[\u001b[0m\u001b[0mdates\u001b[0m \u001b[0;34m==\u001b[0m \u001b[0mprev_block\u001b[0m\u001b[0;34m,\u001b[0m \u001b[0;34m'target'\u001b[0m\u001b[0;34m]\u001b[0m\u001b[0;34m\u001b[0m\u001b[0m\n\u001b[1;32m     15\u001b[0m \u001b[0my_test\u001b[0m \u001b[0;34m=\u001b[0m \u001b[0my\u001b[0m\u001b[0;34m.\u001b[0m\u001b[0mloc\u001b[0m\u001b[0;34m[\u001b[0m\u001b[0mdates\u001b[0m \u001b[0;34m==\u001b[0m \u001b[0mlast_block\u001b[0m\u001b[0;34m,\u001b[0m \u001b[0;34m'target'\u001b[0m\u001b[0;34m]\u001b[0m\u001b[0;34m\u001b[0m\u001b[0m\n",
      "\u001b[0;31mNameError\u001b[0m: name 'y' is not defined"
     ]
    }
   ],
   "source": [
    "dates = merged_data['date_block_num']\n",
    "last_block = dates.max()\n",
    "prev_block = last_block-1\n",
    "\n",
    "dates_train = dates[dates <  prev_block]\n",
    "dates_valid = dates[dates ==  prev_block]\n",
    "dates_test = dates[dates == last_block]\n",
    "\n",
    "X_train = merged_data.loc[dates < prev_block].drop(to_drop_cols, axis=1)\n",
    "X_valid = merged_data.loc[dates == prev_block].drop(to_drop_cols, axis=1)\n",
    "X_test = merged_data.loc[dates == last_block].drop(to_drop_cols, axis=1)"
   ]
  },
  {
   "cell_type": "code",
   "execution_count": 36,
   "metadata": {},
   "outputs": [],
   "source": [
    "y_train = merged_data.loc[dates < prev_block, 'target']\n",
    "y_valid = merged_data.loc[dates == prev_block, 'target']\n",
    "y_test = merged_data.loc[dates == last_block, 'target']"
   ]
  },
  {
   "cell_type": "code",
   "execution_count": 37,
   "metadata": {},
   "outputs": [],
   "source": [
    "X = merged_data.loc[dates < last_block].drop(to_drop_cols, axis=1)\n",
    "y = merged_data.loc[dates < last_block, 'target']"
   ]
  },
  {
   "cell_type": "code",
   "execution_count": 38,
   "metadata": {},
   "outputs": [],
   "source": [
    "X_train = downcast_dtypes(X_train)\n",
    "X_valid = downcast_dtypes(X_valid)\n",
    "X_test = downcast_dtypes(X_test)"
   ]
  },
  {
   "cell_type": "code",
   "execution_count": null,
   "metadata": {},
   "outputs": [],
   "source": [
    "merged_data.to_pickle('Merged_data.pkl')\n",
    "merged_data = read_dataad_pickle('Merged_data.pkl')\n",
    "#or\n",
    "#store = HDFStore('store.h5')\n",
    "#store['df'] = df  # save it\n",
    "#store['df']  # load it"
   ]
  },
  {
   "cell_type": "markdown",
   "metadata": {},
   "source": [
    "So, ready to train and validate, i.e. separate train data into train and validation set and train with xgboost or sth. else. Then prepare test data."
   ]
  },
  {
   "cell_type": "code",
   "execution_count": 42,
   "metadata": {},
   "outputs": [
    {
     "name": "stdout",
     "output_type": "stream",
     "text": [
      "Test R-squared for LightGBM is 0.298000\n"
     ]
    }
   ],
   "source": [
    "lgb_params = {\n",
    "               'feature_fraction': 0.75,\n",
    "               'metric': 'rmse',\n",
    "               'nthread':1, \n",
    "               'min_data_in_leaf': 2**7, \n",
    "               'bagging_fraction': 0.75, \n",
    "               'learning_rate': 0.03, \n",
    "               'objective': 'mse', \n",
    "               'bagging_seed': 2**7, \n",
    "               'num_leaves': 2**7,\n",
    "               'bagging_freq':1,\n",
    "               'verbose':0 \n",
    "              }\n",
    "\n",
    "lgb_model = lgb.train(lgb_params, lgb.Dataset(X_train, label=y_train), 100)\n",
    "pred_lgb = lgb_model.predict(X_valid)\n",
    "\n",
    "print('Test R-squared for LightGBM is %f' % r2_score(y_valid, pred_lgb))"
   ]
  },
  {
   "cell_type": "code",
   "execution_count": 40,
   "metadata": {},
   "outputs": [
    {
     "data": {
      "text/plain": [
       "array([ 631, 1029,  469,  145,  980,   63,  192,  189,   74,  770,  759,\n",
       "        615,  131,  979,  135,  205, 1090,  159,  285,  455,   70,   67,\n",
       "        277,   36,   41,   61,    5,  151,  130,  128,  146,  190,  130,\n",
       "         77,  279,   54,   43,   95,   32,   43,  120,   13,   16,   39,\n",
       "          3,   98,  121,   71,   43,   70,   39,   30,   86,   40,   15,\n",
       "         16,    3,   63,   60,   10,    5,    3,    0,   58,   58,   12,\n",
       "         34,   66,   37,    9,   14,    6,   23,    9])"
      ]
     },
     "execution_count": 40,
     "metadata": {},
     "output_type": "execute_result"
    }
   ],
   "source": [
    "lgb_model.feature_importance()"
   ]
  },
  {
   "cell_type": "code",
   "execution_count": null,
   "metadata": {},
   "outputs": [],
   "source": [
    "#LightGBM\n",
    "#def lgb_rmse(preds, y):\n",
    "#    y = np.array(list(y.get_label()))\n",
    "#    score = np.sqrt(mean_squared_error(y.clip(0.,20.), preds.clip(0.,20.)))\n",
    "#    return 'RMSE', score, False"
   ]
  },
  {
   "cell_type": "code",
   "execution_count": null,
   "metadata": {},
   "outputs": [],
   "source": [
    "#params = {'learning_rate': 0.1, 'max_depth': 7, 'boosting': 'gbdt', 'objective': 'regression', 'metric': 'mse', 'is_training_metric': False, 'seed': 18}\n",
    "#lgb_model = lgb.train(params, lgb.Dataset(X_train, label=y_train), 100, lgb.Dataset(X_valid, label=y_valid), feval=lgb_rmse, verbose_eval=10, early_stopping_rounds=20)"
   ]
  },
  {
   "cell_type": "code",
   "execution_count": 41,
   "metadata": {},
   "outputs": [],
   "source": [
    "test['item_cnt_month'] = lgb_model.predict(X_test)\n",
    "test[['ID','item_cnt_month']].to_csv('lgb_submission.csv', index=False)"
   ]
  },
  {
   "cell_type": "code",
   "execution_count": null,
   "metadata": {},
   "outputs": [],
   "source": []
  }
 ],
 "metadata": {
  "kernelspec": {
   "display_name": "Python [conda env:tensorflow]",
   "language": "python",
   "name": "conda-env-tensorflow-py"
  },
  "language_info": {
   "codemirror_mode": {
    "name": "ipython",
    "version": 3
   },
   "file_extension": ".py",
   "mimetype": "text/x-python",
   "name": "python",
   "nbconvert_exporter": "python",
   "pygments_lexer": "ipython3",
   "version": "3.6.4"
  }
 },
 "nbformat": 4,
 "nbformat_minor": 2
}
