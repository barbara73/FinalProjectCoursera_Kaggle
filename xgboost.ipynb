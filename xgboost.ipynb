{
 "cells": [
  {
   "cell_type": "markdown",
   "metadata": {},
   "source": [
    "Version 1.0.0, Python 2.7.14, conda 4.3.34"
   ]
  },
  {
   "cell_type": "code",
   "execution_count": 1,
   "metadata": {},
   "outputs": [
    {
     "name": "stdout",
     "output_type": "stream",
     "text": [
      "('numpy', '1.14.2')\n",
      "('pandas', u'0.22.0')\n",
      "('xgboost', '0.7.post3')\n"
     ]
    }
   ],
   "source": [
    "import xgboost as xgb\n",
    "import pandas as pd\n",
    "import numpy as np\n",
    "#import lightgbm as lgb\n",
    "#from catboost import CatBoostRegressor\n",
    "#from multiprocessing import *\n",
    "\n",
    "#import sys\n",
    "#from sklearn.model_selection import train_test_split\n",
    "from sklearn.metrics import mean_squared_error\n",
    "\n",
    "import matplotlib.pyplot as plt\n",
    "%matplotlib inline\n",
    "\n",
    "for p in [np, pd, xgb]:\n",
    "    print (p.__name__, p.__version__)"
   ]
  },
  {
   "cell_type": "markdown",
   "metadata": {},
   "source": [
    "Load the data:"
   ]
  },
  {
   "cell_type": "code",
   "execution_count": 2,
   "metadata": {},
   "outputs": [
    {
     "name": "stdout",
     "output_type": "stream",
     "text": [
      "(214200, 3)\n"
     ]
    }
   ],
   "source": [
    "from prepare_data import read_data\n",
    "sales, items, categories, shops, test = read_data()\n",
    "print(test.shape)"
   ]
  },
  {
   "cell_type": "markdown",
   "metadata": {},
   "source": [
    "Create a data frame with all the informations given:"
   ]
  },
  {
   "cell_type": "code",
   "execution_count": 3,
   "metadata": {},
   "outputs": [],
   "source": [
    "#from prepare_data import create_df\n",
    "#df = create_df(sales, items, categories, shops)"
   ]
  },
  {
   "cell_type": "markdown",
   "metadata": {},
   "source": [
    "Use the informations given in the sales:"
   ]
  },
  {
   "cell_type": "code",
   "execution_count": 4,
   "metadata": {},
   "outputs": [],
   "source": [
    "from prepare_data import make_grid, get_aggregated, join_to_existing\n",
    "\n",
    "index_cols = ['shop_id', 'item_id', 'date_block_num']\n",
    "\n",
    "grid = make_grid(sales, index_cols)\n",
    "gb = get_aggregated(sales, index_cols)\n",
    "all_data = join_to_existing(grid, gb, index_cols)"
   ]
  },
  {
   "cell_type": "code",
   "execution_count": 5,
   "metadata": {},
   "outputs": [],
   "source": [
    "all_data.sort_values(['date_block_num','shop_id','item_id'],inplace=True)\n",
    "all_data = all_data.astype('int32')"
   ]
  },
  {
   "cell_type": "code",
   "execution_count": 6,
   "metadata": {},
   "outputs": [
    {
     "data": {
      "text/html": [
       "<div>\n",
       "<style scoped>\n",
       "    .dataframe tbody tr th:only-of-type {\n",
       "        vertical-align: middle;\n",
       "    }\n",
       "\n",
       "    .dataframe tbody tr th {\n",
       "        vertical-align: top;\n",
       "    }\n",
       "\n",
       "    .dataframe thead th {\n",
       "        text-align: right;\n",
       "    }\n",
       "</style>\n",
       "<table border=\"1\" class=\"dataframe\">\n",
       "  <thead>\n",
       "    <tr style=\"text-align: right;\">\n",
       "      <th></th>\n",
       "      <th>shop_id</th>\n",
       "      <th>item_id</th>\n",
       "      <th>date_block_num</th>\n",
       "      <th>target</th>\n",
       "      <th>month</th>\n",
       "      <th>year</th>\n",
       "    </tr>\n",
       "  </thead>\n",
       "  <tbody>\n",
       "    <tr>\n",
       "      <th>139255</th>\n",
       "      <td>0</td>\n",
       "      <td>19</td>\n",
       "      <td>0</td>\n",
       "      <td>0</td>\n",
       "      <td>1</td>\n",
       "      <td>2013</td>\n",
       "    </tr>\n",
       "    <tr>\n",
       "      <th>141495</th>\n",
       "      <td>0</td>\n",
       "      <td>27</td>\n",
       "      <td>0</td>\n",
       "      <td>0</td>\n",
       "      <td>1</td>\n",
       "      <td>2013</td>\n",
       "    </tr>\n",
       "    <tr>\n",
       "      <th>144968</th>\n",
       "      <td>0</td>\n",
       "      <td>28</td>\n",
       "      <td>0</td>\n",
       "      <td>0</td>\n",
       "      <td>1</td>\n",
       "      <td>2013</td>\n",
       "    </tr>\n",
       "    <tr>\n",
       "      <th>142661</th>\n",
       "      <td>0</td>\n",
       "      <td>29</td>\n",
       "      <td>0</td>\n",
       "      <td>0</td>\n",
       "      <td>1</td>\n",
       "      <td>2013</td>\n",
       "    </tr>\n",
       "    <tr>\n",
       "      <th>138947</th>\n",
       "      <td>0</td>\n",
       "      <td>32</td>\n",
       "      <td>0</td>\n",
       "      <td>6</td>\n",
       "      <td>1</td>\n",
       "      <td>2013</td>\n",
       "    </tr>\n",
       "  </tbody>\n",
       "</table>\n",
       "</div>"
      ],
      "text/plain": [
       "        shop_id  item_id  date_block_num  target  month  year\n",
       "139255        0       19               0       0      1  2013\n",
       "141495        0       27               0       0      1  2013\n",
       "144968        0       28               0       0      1  2013\n",
       "142661        0       29               0       0      1  2013\n",
       "138947        0       32               0       6      1  2013"
      ]
     },
     "execution_count": 6,
     "metadata": {},
     "output_type": "execute_result"
    }
   ],
   "source": [
    "all_data = all_data.assign(month = (all_data.date_block_num%12)+1).astype('int32')\n",
    "\n",
    "all_data = all_data.assign(year = 2013)\n",
    "all_data['year'] = np.where(all_data.date_block_num < 12, 2013, 2014)\n",
    "all_data['year'] = np.where(all_data.date_block_num > 23, 2015, all_data.year).astype('int32')\n",
    "\n",
    "all_data.head()"
   ]
  },
  {
   "cell_type": "code",
   "execution_count": 7,
   "metadata": {},
   "outputs": [
    {
     "name": "stdout",
     "output_type": "stream",
     "text": [
      "(1136205, 3)\n"
     ]
    }
   ],
   "source": [
    "target_mean = all_data[['shop_id','item_id','target']].groupby(['shop_id','item_id'], as_index=False)[['target']].mean()\n",
    "target_mean = target_mean.rename(columns={'target':'target_mean'}).astype('float32')\n",
    "print(target_mean.shape)\n",
    "index_cols = ['shop_id', 'item_id']\n",
    "all_data = join_to_existing(all_data, target_mean, index_cols)"
   ]
  },
  {
   "cell_type": "code",
   "execution_count": 8,
   "metadata": {},
   "outputs": [
    {
     "name": "stdout",
     "output_type": "stream",
     "text": [
      "<class 'pandas.core.frame.DataFrame'>\n",
      "Int64Index: 10913850 entries, 0 to 10913849\n",
      "Data columns (total 7 columns):\n",
      "shop_id           int64\n",
      "item_id           int64\n",
      "date_block_num    int32\n",
      "target            int32\n",
      "month             int32\n",
      "year              int32\n",
      "target_mean       float32\n",
      "dtypes: float32(1), int32(4), int64(2)\n",
      "memory usage: 458.0 MB\n"
     ]
    }
   ],
   "source": [
    "all_data.info()"
   ]
  },
  {
   "cell_type": "code",
   "execution_count": 9,
   "metadata": {},
   "outputs": [
    {
     "data": {
      "text/html": [
       "<div>\n",
       "<style scoped>\n",
       "    .dataframe tbody tr th:only-of-type {\n",
       "        vertical-align: middle;\n",
       "    }\n",
       "\n",
       "    .dataframe tbody tr th {\n",
       "        vertical-align: top;\n",
       "    }\n",
       "\n",
       "    .dataframe thead th {\n",
       "        text-align: right;\n",
       "    }\n",
       "</style>\n",
       "<table border=\"1\" class=\"dataframe\">\n",
       "  <thead>\n",
       "    <tr style=\"text-align: right;\">\n",
       "      <th></th>\n",
       "      <th>shop_id</th>\n",
       "      <th>item_id</th>\n",
       "      <th>date_block_num</th>\n",
       "      <th>target</th>\n",
       "      <th>month</th>\n",
       "      <th>year</th>\n",
       "      <th>target_mean</th>\n",
       "      <th>target_kfold</th>\n",
       "      <th>target_loo</th>\n",
       "      <th>target_smoothing</th>\n",
       "      <th>target_exp_mean</th>\n",
       "    </tr>\n",
       "  </thead>\n",
       "  <tbody>\n",
       "    <tr>\n",
       "      <th>0</th>\n",
       "      <td>0.0</td>\n",
       "      <td>19.0</td>\n",
       "      <td>0.0</td>\n",
       "      <td>0.0</td>\n",
       "      <td>1.0</td>\n",
       "      <td>2013.0</td>\n",
       "      <td>0.0</td>\n",
       "      <td>0.334300</td>\n",
       "      <td>0.022727</td>\n",
       "      <td>0.237448</td>\n",
       "      <td>0.3343</td>\n",
       "    </tr>\n",
       "    <tr>\n",
       "      <th>1</th>\n",
       "      <td>0.0</td>\n",
       "      <td>27.0</td>\n",
       "      <td>0.0</td>\n",
       "      <td>0.0</td>\n",
       "      <td>1.0</td>\n",
       "      <td>2013.0</td>\n",
       "      <td>0.0</td>\n",
       "      <td>0.048523</td>\n",
       "      <td>0.056911</td>\n",
       "      <td>0.089905</td>\n",
       "      <td>0.3343</td>\n",
       "    </tr>\n",
       "    <tr>\n",
       "      <th>2</th>\n",
       "      <td>0.0</td>\n",
       "      <td>28.0</td>\n",
       "      <td>0.0</td>\n",
       "      <td>0.0</td>\n",
       "      <td>1.0</td>\n",
       "      <td>2013.0</td>\n",
       "      <td>0.0</td>\n",
       "      <td>0.142424</td>\n",
       "      <td>0.141414</td>\n",
       "      <td>0.168964</td>\n",
       "      <td>0.3343</td>\n",
       "    </tr>\n",
       "    <tr>\n",
       "      <th>3</th>\n",
       "      <td>0.0</td>\n",
       "      <td>29.0</td>\n",
       "      <td>0.0</td>\n",
       "      <td>0.0</td>\n",
       "      <td>1.0</td>\n",
       "      <td>2013.0</td>\n",
       "      <td>0.0</td>\n",
       "      <td>0.030303</td>\n",
       "      <td>0.037500</td>\n",
       "      <td>0.107910</td>\n",
       "      <td>0.3343</td>\n",
       "    </tr>\n",
       "    <tr>\n",
       "      <th>4</th>\n",
       "      <td>0.0</td>\n",
       "      <td>32.0</td>\n",
       "      <td>0.0</td>\n",
       "      <td>6.0</td>\n",
       "      <td>1.0</td>\n",
       "      <td>2013.0</td>\n",
       "      <td>8.0</td>\n",
       "      <td>0.894020</td>\n",
       "      <td>1.316088</td>\n",
       "      <td>1.260635</td>\n",
       "      <td>0.3343</td>\n",
       "    </tr>\n",
       "  </tbody>\n",
       "</table>\n",
       "</div>"
      ],
      "text/plain": [
       "   shop_id  item_id  date_block_num  target  month    year  target_mean  \\\n",
       "0      0.0     19.0             0.0     0.0    1.0  2013.0          0.0   \n",
       "1      0.0     27.0             0.0     0.0    1.0  2013.0          0.0   \n",
       "2      0.0     28.0             0.0     0.0    1.0  2013.0          0.0   \n",
       "3      0.0     29.0             0.0     0.0    1.0  2013.0          0.0   \n",
       "4      0.0     32.0             0.0     6.0    1.0  2013.0          8.0   \n",
       "\n",
       "   target_kfold  target_loo  target_smoothing  target_exp_mean  \n",
       "0      0.334300    0.022727          0.237448           0.3343  \n",
       "1      0.048523    0.056911          0.089905           0.3343  \n",
       "2      0.142424    0.141414          0.168964           0.3343  \n",
       "3      0.030303    0.037500          0.107910           0.3343  \n",
       "4      0.894020    1.316088          1.260635           0.3343  "
      ]
     },
     "execution_count": 9,
     "metadata": {},
     "output_type": "execute_result"
    }
   ],
   "source": [
    "from prepare_data import k_fold_mean, loo_mean, smoothing_mean, expanding_mean\n",
    "\n",
    "all_data, target_kf  = k_fold_mean(all_data)\n",
    "all_data, target_loo = loo_mean(all_data)\n",
    "all_data, target_sm = smoothing_mean(all_data)\n",
    "all_data, target_exp = expanding_mean(all_data)\n",
    "all_data.head()"
   ]
  },
  {
   "cell_type": "code",
   "execution_count": 10,
   "metadata": {},
   "outputs": [
    {
     "name": "stdout",
     "output_type": "stream",
     "text": [
      "(10913850,)\n",
      "(10913850, 10)\n"
     ]
    },
    {
     "data": {
      "text/html": [
       "<div>\n",
       "<style scoped>\n",
       "    .dataframe tbody tr th:only-of-type {\n",
       "        vertical-align: middle;\n",
       "    }\n",
       "\n",
       "    .dataframe tbody tr th {\n",
       "        vertical-align: top;\n",
       "    }\n",
       "\n",
       "    .dataframe thead th {\n",
       "        text-align: right;\n",
       "    }\n",
       "</style>\n",
       "<table border=\"1\" class=\"dataframe\">\n",
       "  <thead>\n",
       "    <tr style=\"text-align: right;\">\n",
       "      <th></th>\n",
       "      <th>shop_id</th>\n",
       "      <th>item_id</th>\n",
       "      <th>date_block_num</th>\n",
       "      <th>month</th>\n",
       "      <th>year</th>\n",
       "      <th>target_mean</th>\n",
       "      <th>target_kfold</th>\n",
       "      <th>target_loo</th>\n",
       "      <th>target_smoothing</th>\n",
       "      <th>target_exp_mean</th>\n",
       "    </tr>\n",
       "  </thead>\n",
       "  <tbody>\n",
       "    <tr>\n",
       "      <th>0</th>\n",
       "      <td>0.0</td>\n",
       "      <td>19.0</td>\n",
       "      <td>0.0</td>\n",
       "      <td>1.0</td>\n",
       "      <td>2013.0</td>\n",
       "      <td>0.0</td>\n",
       "      <td>0.334300</td>\n",
       "      <td>0.022727</td>\n",
       "      <td>0.237448</td>\n",
       "      <td>0.3343</td>\n",
       "    </tr>\n",
       "    <tr>\n",
       "      <th>1</th>\n",
       "      <td>0.0</td>\n",
       "      <td>27.0</td>\n",
       "      <td>0.0</td>\n",
       "      <td>1.0</td>\n",
       "      <td>2013.0</td>\n",
       "      <td>0.0</td>\n",
       "      <td>0.048523</td>\n",
       "      <td>0.056911</td>\n",
       "      <td>0.089905</td>\n",
       "      <td>0.3343</td>\n",
       "    </tr>\n",
       "    <tr>\n",
       "      <th>2</th>\n",
       "      <td>0.0</td>\n",
       "      <td>28.0</td>\n",
       "      <td>0.0</td>\n",
       "      <td>1.0</td>\n",
       "      <td>2013.0</td>\n",
       "      <td>0.0</td>\n",
       "      <td>0.142424</td>\n",
       "      <td>0.141414</td>\n",
       "      <td>0.168964</td>\n",
       "      <td>0.3343</td>\n",
       "    </tr>\n",
       "    <tr>\n",
       "      <th>3</th>\n",
       "      <td>0.0</td>\n",
       "      <td>29.0</td>\n",
       "      <td>0.0</td>\n",
       "      <td>1.0</td>\n",
       "      <td>2013.0</td>\n",
       "      <td>0.0</td>\n",
       "      <td>0.030303</td>\n",
       "      <td>0.037500</td>\n",
       "      <td>0.107910</td>\n",
       "      <td>0.3343</td>\n",
       "    </tr>\n",
       "    <tr>\n",
       "      <th>4</th>\n",
       "      <td>0.0</td>\n",
       "      <td>32.0</td>\n",
       "      <td>0.0</td>\n",
       "      <td>1.0</td>\n",
       "      <td>2013.0</td>\n",
       "      <td>8.0</td>\n",
       "      <td>0.894020</td>\n",
       "      <td>1.316088</td>\n",
       "      <td>1.260635</td>\n",
       "      <td>0.3343</td>\n",
       "    </tr>\n",
       "  </tbody>\n",
       "</table>\n",
       "</div>"
      ],
      "text/plain": [
       "   shop_id  item_id  date_block_num  month    year  target_mean  target_kfold  \\\n",
       "0      0.0     19.0             0.0    1.0  2013.0          0.0      0.334300   \n",
       "1      0.0     27.0             0.0    1.0  2013.0          0.0      0.048523   \n",
       "2      0.0     28.0             0.0    1.0  2013.0          0.0      0.142424   \n",
       "3      0.0     29.0             0.0    1.0  2013.0          0.0      0.030303   \n",
       "4      0.0     32.0             0.0    1.0  2013.0          8.0      0.894020   \n",
       "\n",
       "   target_loo  target_smoothing  target_exp_mean  \n",
       "0    0.022727          0.237448           0.3343  \n",
       "1    0.056911          0.089905           0.3343  \n",
       "2    0.141414          0.168964           0.3343  \n",
       "3    0.037500          0.107910           0.3343  \n",
       "4    1.316088          1.260635           0.3343  "
      ]
     },
     "execution_count": 10,
     "metadata": {},
     "output_type": "execute_result"
    }
   ],
   "source": [
    "y = all_data.target.astype('int32')\n",
    "X = all_data.drop(columns=['target'])\n",
    "print(y.shape)\n",
    "print(X.shape)\n",
    "X.head()"
   ]
  },
  {
   "cell_type": "markdown",
   "metadata": {},
   "source": [
    "The test data must have the same features:"
   ]
  },
  {
   "cell_type": "code",
   "execution_count": 11,
   "metadata": {},
   "outputs": [
    {
     "name": "stdout",
     "output_type": "stream",
     "text": [
      "(214200, 7)\n"
     ]
    },
    {
     "data": {
      "text/html": [
       "<div>\n",
       "<style scoped>\n",
       "    .dataframe tbody tr th:only-of-type {\n",
       "        vertical-align: middle;\n",
       "    }\n",
       "\n",
       "    .dataframe tbody tr th {\n",
       "        vertical-align: top;\n",
       "    }\n",
       "\n",
       "    .dataframe thead th {\n",
       "        text-align: right;\n",
       "    }\n",
       "</style>\n",
       "<table border=\"1\" class=\"dataframe\">\n",
       "  <thead>\n",
       "    <tr style=\"text-align: right;\">\n",
       "      <th></th>\n",
       "      <th>shop_id</th>\n",
       "      <th>item_id</th>\n",
       "      <th>date_block_num</th>\n",
       "      <th>month</th>\n",
       "      <th>year</th>\n",
       "      <th>target_mean</th>\n",
       "      <th>target_kfold</th>\n",
       "    </tr>\n",
       "  </thead>\n",
       "  <tbody>\n",
       "    <tr>\n",
       "      <th>0</th>\n",
       "      <td>5</td>\n",
       "      <td>5037</td>\n",
       "      <td>34</td>\n",
       "      <td>11</td>\n",
       "      <td>2015</td>\n",
       "      <td>0.928571</td>\n",
       "      <td>2.257832</td>\n",
       "    </tr>\n",
       "    <tr>\n",
       "      <th>1</th>\n",
       "      <td>5</td>\n",
       "      <td>5320</td>\n",
       "      <td>34</td>\n",
       "      <td>11</td>\n",
       "      <td>2015</td>\n",
       "      <td>0.000000</td>\n",
       "      <td>0.000000</td>\n",
       "    </tr>\n",
       "    <tr>\n",
       "      <th>2</th>\n",
       "      <td>5</td>\n",
       "      <td>5233</td>\n",
       "      <td>34</td>\n",
       "      <td>11</td>\n",
       "      <td>2015</td>\n",
       "      <td>1.428571</td>\n",
       "      <td>0.334300</td>\n",
       "    </tr>\n",
       "    <tr>\n",
       "      <th>3</th>\n",
       "      <td>5</td>\n",
       "      <td>5232</td>\n",
       "      <td>34</td>\n",
       "      <td>11</td>\n",
       "      <td>2015</td>\n",
       "      <td>0.333333</td>\n",
       "      <td>0.334300</td>\n",
       "    </tr>\n",
       "    <tr>\n",
       "      <th>4</th>\n",
       "      <td>5</td>\n",
       "      <td>5268</td>\n",
       "      <td>34</td>\n",
       "      <td>11</td>\n",
       "      <td>2015</td>\n",
       "      <td>0.000000</td>\n",
       "      <td>0.000000</td>\n",
       "    </tr>\n",
       "  </tbody>\n",
       "</table>\n",
       "</div>"
      ],
      "text/plain": [
       "   shop_id  item_id  date_block_num  month  year  target_mean  target_kfold\n",
       "0        5     5037              34     11  2015     0.928571      2.257832\n",
       "1        5     5320              34     11  2015     0.000000      0.000000\n",
       "2        5     5233              34     11  2015     1.428571      0.334300\n",
       "3        5     5232              34     11  2015     0.333333      0.334300\n",
       "4        5     5268              34     11  2015     0.000000      0.000000"
      ]
     },
     "execution_count": 11,
     "metadata": {},
     "output_type": "execute_result"
    }
   ],
   "source": [
    "from prepare_data import prepare_test\n",
    "X_test = prepare_test(test)\n",
    "\n",
    "X_test = join_to_existing(X_test, target_mean, index_cols)\n",
    "X_kf = X_test.merge(target_kf, on=index_cols)\n",
    "index = ['shop_id', 'item_id', 'date_block_num', 'month', 'year']\n",
    "X_kf = X_kf.groupby(index, as_index=False)[['target_kfold']].mean()#try also with min\n",
    "\n",
    "X_test = join_to_existing(X_test, X_kf, index)\n",
    "print(X_test.shape)\n",
    "X_test.head()"
   ]
  },
  {
   "cell_type": "code",
   "execution_count": 12,
   "metadata": {},
   "outputs": [
    {
     "name": "stdout",
     "output_type": "stream",
     "text": [
      "(214200, 8)\n"
     ]
    }
   ],
   "source": [
    "X_loo = X_test.merge(target_loo, on=index_cols)\n",
    "index = ['shop_id', 'item_id', 'date_block_num', 'month', 'year', 'target_kfold']\n",
    "X_loo = X_loo.groupby(index, as_index=False)[['target_loo']].mean()#try also with min\n",
    "\n",
    "X_test = join_to_existing(X_test, X_loo, index)\n",
    "print(X_test.shape)"
   ]
  },
  {
   "cell_type": "code",
   "execution_count": 13,
   "metadata": {},
   "outputs": [
    {
     "name": "stdout",
     "output_type": "stream",
     "text": [
      "(214200, 9)\n"
     ]
    }
   ],
   "source": [
    "X_sm = X_test.merge(target_sm, on=index_cols)\n",
    "index = ['shop_id', 'item_id', 'date_block_num', 'month', 'year', 'target_kfold', 'target_loo']\n",
    "X_sm = X_sm.groupby(index, as_index=False)[['target_smoothing']].mean()#try also with min\n",
    "\n",
    "X_test = join_to_existing(X_test, X_sm, index)\n",
    "print(X_test.shape)"
   ]
  },
  {
   "cell_type": "code",
   "execution_count": 14,
   "metadata": {},
   "outputs": [
    {
     "name": "stdout",
     "output_type": "stream",
     "text": [
      "(214200, 10)\n"
     ]
    }
   ],
   "source": [
    "X_exp = X_test.merge(target_exp, on=index_cols)\n",
    "index = ['shop_id', 'item_id', 'date_block_num', 'month', 'year', 'target_kfold', 'target_loo', 'target_smoothing']\n",
    "X_exp = X_exp.groupby(index, as_index=False)[['target_exp_mean']].mean()#try also with min\n",
    "\n",
    "X_test = join_to_existing(X_test, X_exp, index)\n",
    "print(X_test.shape)"
   ]
  },
  {
   "cell_type": "code",
   "execution_count": 15,
   "metadata": {},
   "outputs": [
    {
     "data": {
      "text/html": [
       "<div>\n",
       "<style scoped>\n",
       "    .dataframe tbody tr th:only-of-type {\n",
       "        vertical-align: middle;\n",
       "    }\n",
       "\n",
       "    .dataframe tbody tr th {\n",
       "        vertical-align: top;\n",
       "    }\n",
       "\n",
       "    .dataframe thead th {\n",
       "        text-align: right;\n",
       "    }\n",
       "</style>\n",
       "<table border=\"1\" class=\"dataframe\">\n",
       "  <thead>\n",
       "    <tr style=\"text-align: right;\">\n",
       "      <th></th>\n",
       "      <th>shop_id</th>\n",
       "      <th>item_id</th>\n",
       "      <th>date_block_num</th>\n",
       "      <th>month</th>\n",
       "      <th>year</th>\n",
       "      <th>target_mean</th>\n",
       "      <th>target_kfold</th>\n",
       "      <th>target_loo</th>\n",
       "      <th>target_smoothing</th>\n",
       "      <th>target_exp_mean</th>\n",
       "    </tr>\n",
       "  </thead>\n",
       "  <tbody>\n",
       "    <tr>\n",
       "      <th>0</th>\n",
       "      <td>5</td>\n",
       "      <td>5037</td>\n",
       "      <td>34</td>\n",
       "      <td>11</td>\n",
       "      <td>2015</td>\n",
       "      <td>0.928571</td>\n",
       "      <td>2.257832</td>\n",
       "      <td>1.952418</td>\n",
       "      <td>1.735593</td>\n",
       "      <td>2.357574</td>\n",
       "    </tr>\n",
       "    <tr>\n",
       "      <th>1</th>\n",
       "      <td>5</td>\n",
       "      <td>5320</td>\n",
       "      <td>34</td>\n",
       "      <td>11</td>\n",
       "      <td>2015</td>\n",
       "      <td>0.000000</td>\n",
       "      <td>0.000000</td>\n",
       "      <td>0.000000</td>\n",
       "      <td>0.000000</td>\n",
       "      <td>0.000000</td>\n",
       "    </tr>\n",
       "    <tr>\n",
       "      <th>2</th>\n",
       "      <td>5</td>\n",
       "      <td>5233</td>\n",
       "      <td>34</td>\n",
       "      <td>11</td>\n",
       "      <td>2015</td>\n",
       "      <td>1.428571</td>\n",
       "      <td>0.334300</td>\n",
       "      <td>1.657611</td>\n",
       "      <td>1.331108</td>\n",
       "      <td>1.073332</td>\n",
       "    </tr>\n",
       "    <tr>\n",
       "      <th>3</th>\n",
       "      <td>5</td>\n",
       "      <td>5232</td>\n",
       "      <td>34</td>\n",
       "      <td>11</td>\n",
       "      <td>2015</td>\n",
       "      <td>0.333333</td>\n",
       "      <td>0.334300</td>\n",
       "      <td>1.098958</td>\n",
       "      <td>0.761703</td>\n",
       "      <td>1.376347</td>\n",
       "    </tr>\n",
       "    <tr>\n",
       "      <th>4</th>\n",
       "      <td>5</td>\n",
       "      <td>5268</td>\n",
       "      <td>34</td>\n",
       "      <td>11</td>\n",
       "      <td>2015</td>\n",
       "      <td>0.000000</td>\n",
       "      <td>0.000000</td>\n",
       "      <td>0.000000</td>\n",
       "      <td>0.000000</td>\n",
       "      <td>0.000000</td>\n",
       "    </tr>\n",
       "  </tbody>\n",
       "</table>\n",
       "</div>"
      ],
      "text/plain": [
       "   shop_id  item_id  date_block_num  month  year  target_mean  target_kfold  \\\n",
       "0        5     5037              34     11  2015     0.928571      2.257832   \n",
       "1        5     5320              34     11  2015     0.000000      0.000000   \n",
       "2        5     5233              34     11  2015     1.428571      0.334300   \n",
       "3        5     5232              34     11  2015     0.333333      0.334300   \n",
       "4        5     5268              34     11  2015     0.000000      0.000000   \n",
       "\n",
       "   target_loo  target_smoothing  target_exp_mean  \n",
       "0    1.952418          1.735593         2.357574  \n",
       "1    0.000000          0.000000         0.000000  \n",
       "2    1.657611          1.331108         1.073332  \n",
       "3    1.098958          0.761703         1.376347  \n",
       "4    0.000000          0.000000         0.000000  "
      ]
     },
     "execution_count": 15,
     "metadata": {},
     "output_type": "execute_result"
    }
   ],
   "source": [
    "X_test.head()"
   ]
  },
  {
   "cell_type": "code",
   "execution_count": 16,
   "metadata": {},
   "outputs": [
    {
     "data": {
      "text/html": [
       "<div>\n",
       "<style scoped>\n",
       "    .dataframe tbody tr th:only-of-type {\n",
       "        vertical-align: middle;\n",
       "    }\n",
       "\n",
       "    .dataframe tbody tr th {\n",
       "        vertical-align: top;\n",
       "    }\n",
       "\n",
       "    .dataframe thead th {\n",
       "        text-align: right;\n",
       "    }\n",
       "</style>\n",
       "<table border=\"1\" class=\"dataframe\">\n",
       "  <thead>\n",
       "    <tr style=\"text-align: right;\">\n",
       "      <th></th>\n",
       "      <th>ID</th>\n",
       "      <th>shop_id</th>\n",
       "      <th>item_id</th>\n",
       "    </tr>\n",
       "  </thead>\n",
       "  <tbody>\n",
       "    <tr>\n",
       "      <th>0</th>\n",
       "      <td>0</td>\n",
       "      <td>5</td>\n",
       "      <td>5037</td>\n",
       "    </tr>\n",
       "    <tr>\n",
       "      <th>1</th>\n",
       "      <td>1</td>\n",
       "      <td>5</td>\n",
       "      <td>5320</td>\n",
       "    </tr>\n",
       "    <tr>\n",
       "      <th>2</th>\n",
       "      <td>2</td>\n",
       "      <td>5</td>\n",
       "      <td>5233</td>\n",
       "    </tr>\n",
       "    <tr>\n",
       "      <th>3</th>\n",
       "      <td>3</td>\n",
       "      <td>5</td>\n",
       "      <td>5232</td>\n",
       "    </tr>\n",
       "    <tr>\n",
       "      <th>4</th>\n",
       "      <td>4</td>\n",
       "      <td>5</td>\n",
       "      <td>5268</td>\n",
       "    </tr>\n",
       "  </tbody>\n",
       "</table>\n",
       "</div>"
      ],
      "text/plain": [
       "   ID  shop_id  item_id\n",
       "0   0        5     5037\n",
       "1   1        5     5320\n",
       "2   2        5     5233\n",
       "3   3        5     5232\n",
       "4   4        5     5268"
      ]
     },
     "execution_count": 16,
     "metadata": {},
     "output_type": "execute_result"
    }
   ],
   "source": [
    "test.head()"
   ]
  },
  {
   "cell_type": "code",
   "execution_count": 17,
   "metadata": {},
   "outputs": [],
   "source": [
    "X_train = X[X.date_block_num < 33]\n",
    "X_valid = X[X.date_block_num == 33]\n",
    "y_train = y[:len(X_train)]\n",
    "y_valid = y[len(X_train):]"
   ]
  },
  {
   "cell_type": "markdown",
   "metadata": {},
   "source": [
    "So, ready to train and validate, i.e. separate train data into train and validation set and train with xgboost or sth. else. Then prepare test data."
   ]
  },
  {
   "cell_type": "code",
   "execution_count": 18,
   "metadata": {},
   "outputs": [],
   "source": [
    "#XGBoost\n",
    "def xgb_rmse(preds, y):\n",
    "    y = y.get_label()\n",
    "    score = np.sqrt(mean_squared_error(y.clip(0.,20.), preds.clip(0.,20.)))\n",
    "    return 'RMSE', score"
   ]
  },
  {
   "cell_type": "code",
   "execution_count": null,
   "metadata": {},
   "outputs": [
    {
     "name": "stdout",
     "output_type": "stream",
     "text": [
      "[0]\ttrain-rmse:3.12202\tvalid-rmse:5.21715\ttrain-RMSE:1.11179\tvalid-RMSE:0.970129\n",
      "Multiple eval metrics have been passed: 'valid-RMSE' will be used for early stopping.\n",
      "\n",
      "Will train until valid-RMSE hasn't improved in 20 rounds.\n",
      "[10]\ttrain-rmse:2.45452\tvalid-rmse:5.02716\ttrain-RMSE:0.902192\tvalid-RMSE:0.979531\n"
     ]
    }
   ],
   "source": [
    "params = {'eta': 0.2, 'max_depth': 4, 'objective': 'reg:linear', 'eval_metric': 'rmse', 'seed': 18, 'silent': True}\n",
    "\n",
    "watchlist = [(xgb.DMatrix(X_train, y_train), 'train'), (xgb.DMatrix(X_valid, y_valid), 'valid')]\n",
    "xgb_model = xgb.train(params, xgb.DMatrix(X_train, y_train), 100,  watchlist, verbose_eval=10, feval=xgb_rmse, maximize=False, early_stopping_rounds=20)\n"
   ]
  },
  {
   "cell_type": "code",
   "execution_count": null,
   "metadata": {},
   "outputs": [],
   "source": [
    "test['item_cnt_month'] = xgb_model.predict(xgb.DMatrix(X_test), ntree_limit=xgb_model.best_ntree_limit)\n",
    "test[['ID','item_cnt_month']].to_csv('xgb_submission.csv', index=False)"
   ]
  }
 ],
 "metadata": {
  "kernelspec": {
   "display_name": "Python [conda env:xgboost]",
   "language": "python",
   "name": "conda-env-xgboost-py"
  },
  "language_info": {
   "codemirror_mode": {
    "name": "ipython",
    "version": 2
   },
   "file_extension": ".py",
   "mimetype": "text/x-python",
   "name": "python",
   "nbconvert_exporter": "python",
   "pygments_lexer": "ipython2",
   "version": "2.7.14"
  }
 },
 "nbformat": 4,
 "nbformat_minor": 2
}
