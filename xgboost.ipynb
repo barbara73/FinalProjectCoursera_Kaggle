{
 "cells": [
  {
   "cell_type": "markdown",
   "metadata": {},
   "source": [
    "Version 1.0.1, Python 2.7.14, conda 4.3.34"
   ]
  },
  {
   "cell_type": "code",
   "execution_count": 1,
   "metadata": {},
   "outputs": [
    {
     "name": "stdout",
     "output_type": "stream",
     "text": [
      "('numpy', '1.14.2')\n",
      "('pandas', u'0.22.0')\n",
      "('xgboost', '0.7.post3')\n"
     ]
    }
   ],
   "source": [
    "import xgboost as xgb\n",
    "import pandas as pd\n",
    "import numpy as np\n",
    "#import lightgbm as lgb\n",
    "#from catboost import CatBoostRegressor\n",
    "#from multiprocessing import *\n",
    "\n",
    "#import sys\n",
    "#from sklearn.model_selection import train_test_split\n",
    "from sklearn.metrics import mean_squared_error\n",
    "\n",
    "import matplotlib.pyplot as plt\n",
    "%matplotlib inline\n",
    "\n",
    "for p in [np, pd, xgb]:\n",
    "    print (p.__name__, p.__version__)"
   ]
  },
  {
   "cell_type": "markdown",
   "metadata": {},
   "source": [
    "Load the data:"
   ]
  },
  {
   "cell_type": "code",
   "execution_count": 2,
   "metadata": {},
   "outputs": [],
   "source": [
    "from prepare_data import read_data\n",
    "sales, items, categories, shops, test = read_data()"
   ]
  },
  {
   "cell_type": "markdown",
   "metadata": {},
   "source": [
    "Create a data frame with all the informations given:"
   ]
  },
  {
   "cell_type": "code",
   "execution_count": 3,
   "metadata": {},
   "outputs": [],
   "source": [
    "from prepare_data import create_df\n",
    "df = create_df(sales, items, categories, shops)"
   ]
  },
  {
   "cell_type": "markdown",
   "metadata": {},
   "source": [
    "Use the informations given in the sales:"
   ]
  },
  {
   "cell_type": "code",
   "execution_count": 4,
   "metadata": {},
   "outputs": [],
   "source": [
    "from prepare_data import make_grid, get_aggregated, join_to_existing\n",
    "\n",
    "index_cols = ['shop_id', 'item_id', 'date_block_num']\n",
    "\n",
    "grid = make_grid(sales, index_cols)\n",
    "gb = get_aggregated(sales, index_cols)\n",
    "all_data = join_to_existing(grid, gb, index_cols)"
   ]
  },
  {
   "cell_type": "code",
   "execution_count": 5,
   "metadata": {},
   "outputs": [],
   "source": [
    "all_data.sort_values(['date_block_num','shop_id','item_id'],inplace=True)\n",
    "all_data = all_data.astype('int32')"
   ]
  },
  {
   "cell_type": "code",
   "execution_count": 6,
   "metadata": {},
   "outputs": [
    {
     "data": {
      "text/html": [
       "<div>\n",
       "<style scoped>\n",
       "    .dataframe tbody tr th:only-of-type {\n",
       "        vertical-align: middle;\n",
       "    }\n",
       "\n",
       "    .dataframe tbody tr th {\n",
       "        vertical-align: top;\n",
       "    }\n",
       "\n",
       "    .dataframe thead th {\n",
       "        text-align: right;\n",
       "    }\n",
       "</style>\n",
       "<table border=\"1\" class=\"dataframe\">\n",
       "  <thead>\n",
       "    <tr style=\"text-align: right;\">\n",
       "      <th></th>\n",
       "      <th>shop_id</th>\n",
       "      <th>item_id</th>\n",
       "      <th>date_block_num</th>\n",
       "      <th>target</th>\n",
       "      <th>month</th>\n",
       "      <th>year</th>\n",
       "    </tr>\n",
       "  </thead>\n",
       "  <tbody>\n",
       "    <tr>\n",
       "      <th>139255</th>\n",
       "      <td>0</td>\n",
       "      <td>19</td>\n",
       "      <td>0</td>\n",
       "      <td>0</td>\n",
       "      <td>1</td>\n",
       "      <td>2013</td>\n",
       "    </tr>\n",
       "    <tr>\n",
       "      <th>141495</th>\n",
       "      <td>0</td>\n",
       "      <td>27</td>\n",
       "      <td>0</td>\n",
       "      <td>0</td>\n",
       "      <td>1</td>\n",
       "      <td>2013</td>\n",
       "    </tr>\n",
       "    <tr>\n",
       "      <th>144968</th>\n",
       "      <td>0</td>\n",
       "      <td>28</td>\n",
       "      <td>0</td>\n",
       "      <td>0</td>\n",
       "      <td>1</td>\n",
       "      <td>2013</td>\n",
       "    </tr>\n",
       "    <tr>\n",
       "      <th>142661</th>\n",
       "      <td>0</td>\n",
       "      <td>29</td>\n",
       "      <td>0</td>\n",
       "      <td>0</td>\n",
       "      <td>1</td>\n",
       "      <td>2013</td>\n",
       "    </tr>\n",
       "    <tr>\n",
       "      <th>138947</th>\n",
       "      <td>0</td>\n",
       "      <td>32</td>\n",
       "      <td>0</td>\n",
       "      <td>6</td>\n",
       "      <td>1</td>\n",
       "      <td>2013</td>\n",
       "    </tr>\n",
       "  </tbody>\n",
       "</table>\n",
       "</div>"
      ],
      "text/plain": [
       "        shop_id  item_id  date_block_num  target  month  year\n",
       "139255        0       19               0       0      1  2013\n",
       "141495        0       27               0       0      1  2013\n",
       "144968        0       28               0       0      1  2013\n",
       "142661        0       29               0       0      1  2013\n",
       "138947        0       32               0       6      1  2013"
      ]
     },
     "execution_count": 6,
     "metadata": {},
     "output_type": "execute_result"
    }
   ],
   "source": [
    "all_data = all_data.assign(month = (all_data.date_block_num%12)+1).astype('int32')\n",
    "\n",
    "all_data = all_data.assign(year = 2013)\n",
    "all_data['year'] = np.where(all_data.date_block_num < 12, 2013, 2014)\n",
    "all_data['year'] = np.where(all_data.date_block_num > 23, 2015, all_data.year).astype('int32')\n",
    "\n",
    "all_data.head()"
   ]
  },
  {
   "cell_type": "code",
   "execution_count": 7,
   "metadata": {},
   "outputs": [],
   "source": [
    "target_mean = all_data[['shop_id','item_id','target']].groupby(['shop_id','item_id'], as_index=False)[['target']].mean()\n",
    "target_mean = target_mean.rename(columns={'target':'target_mean'}).astype('float32')\n",
    "\n",
    "index_cols = ['shop_id', 'item_id']\n",
    "all_data = join_to_existing(all_data, target_mean, index_cols)"
   ]
  },
  {
   "cell_type": "code",
   "execution_count": 8,
   "metadata": {},
   "outputs": [
    {
     "name": "stdout",
     "output_type": "stream",
     "text": [
      "<class 'pandas.core.frame.DataFrame'>\n",
      "Int64Index: 10913850 entries, 0 to 10913849\n",
      "Data columns (total 7 columns):\n",
      "shop_id           int64\n",
      "item_id           int64\n",
      "date_block_num    int32\n",
      "target            int32\n",
      "month             int32\n",
      "year              int32\n",
      "target_mean       float32\n",
      "dtypes: float32(1), int32(4), int64(2)\n",
      "memory usage: 458.0 MB\n"
     ]
    }
   ],
   "source": [
    "all_data.info()"
   ]
  },
  {
   "cell_type": "code",
   "execution_count": 9,
   "metadata": {},
   "outputs": [
    {
     "data": {
      "text/html": [
       "<div>\n",
       "<style scoped>\n",
       "    .dataframe tbody tr th:only-of-type {\n",
       "        vertical-align: middle;\n",
       "    }\n",
       "\n",
       "    .dataframe tbody tr th {\n",
       "        vertical-align: top;\n",
       "    }\n",
       "\n",
       "    .dataframe thead th {\n",
       "        text-align: right;\n",
       "    }\n",
       "</style>\n",
       "<table border=\"1\" class=\"dataframe\">\n",
       "  <thead>\n",
       "    <tr style=\"text-align: right;\">\n",
       "      <th></th>\n",
       "      <th>shop_id</th>\n",
       "      <th>item_id</th>\n",
       "      <th>date_block_num</th>\n",
       "      <th>target</th>\n",
       "      <th>month</th>\n",
       "      <th>year</th>\n",
       "      <th>target_mean</th>\n",
       "      <th>target_kfold</th>\n",
       "      <th>target_loo</th>\n",
       "      <th>target_smoothing</th>\n",
       "      <th>target_exp_mean</th>\n",
       "    </tr>\n",
       "  </thead>\n",
       "  <tbody>\n",
       "    <tr>\n",
       "      <th>0</th>\n",
       "      <td>0.0</td>\n",
       "      <td>19.0</td>\n",
       "      <td>0.0</td>\n",
       "      <td>0.0</td>\n",
       "      <td>1.0</td>\n",
       "      <td>2013.0</td>\n",
       "      <td>0.0</td>\n",
       "      <td>0.334300</td>\n",
       "      <td>0.022727</td>\n",
       "      <td>0.237448</td>\n",
       "      <td>0.3343</td>\n",
       "    </tr>\n",
       "    <tr>\n",
       "      <th>1</th>\n",
       "      <td>0.0</td>\n",
       "      <td>27.0</td>\n",
       "      <td>0.0</td>\n",
       "      <td>0.0</td>\n",
       "      <td>1.0</td>\n",
       "      <td>2013.0</td>\n",
       "      <td>0.0</td>\n",
       "      <td>0.048523</td>\n",
       "      <td>0.056911</td>\n",
       "      <td>0.089905</td>\n",
       "      <td>0.3343</td>\n",
       "    </tr>\n",
       "    <tr>\n",
       "      <th>2</th>\n",
       "      <td>0.0</td>\n",
       "      <td>28.0</td>\n",
       "      <td>0.0</td>\n",
       "      <td>0.0</td>\n",
       "      <td>1.0</td>\n",
       "      <td>2013.0</td>\n",
       "      <td>0.0</td>\n",
       "      <td>0.142424</td>\n",
       "      <td>0.141414</td>\n",
       "      <td>0.168964</td>\n",
       "      <td>0.3343</td>\n",
       "    </tr>\n",
       "    <tr>\n",
       "      <th>3</th>\n",
       "      <td>0.0</td>\n",
       "      <td>29.0</td>\n",
       "      <td>0.0</td>\n",
       "      <td>0.0</td>\n",
       "      <td>1.0</td>\n",
       "      <td>2013.0</td>\n",
       "      <td>0.0</td>\n",
       "      <td>0.030303</td>\n",
       "      <td>0.037500</td>\n",
       "      <td>0.107910</td>\n",
       "      <td>0.3343</td>\n",
       "    </tr>\n",
       "    <tr>\n",
       "      <th>4</th>\n",
       "      <td>0.0</td>\n",
       "      <td>32.0</td>\n",
       "      <td>0.0</td>\n",
       "      <td>6.0</td>\n",
       "      <td>1.0</td>\n",
       "      <td>2013.0</td>\n",
       "      <td>8.0</td>\n",
       "      <td>0.894020</td>\n",
       "      <td>1.316088</td>\n",
       "      <td>1.260635</td>\n",
       "      <td>0.3343</td>\n",
       "    </tr>\n",
       "  </tbody>\n",
       "</table>\n",
       "</div>"
      ],
      "text/plain": [
       "   shop_id  item_id  date_block_num  target  month    year  target_mean  \\\n",
       "0      0.0     19.0             0.0     0.0    1.0  2013.0          0.0   \n",
       "1      0.0     27.0             0.0     0.0    1.0  2013.0          0.0   \n",
       "2      0.0     28.0             0.0     0.0    1.0  2013.0          0.0   \n",
       "3      0.0     29.0             0.0     0.0    1.0  2013.0          0.0   \n",
       "4      0.0     32.0             0.0     6.0    1.0  2013.0          8.0   \n",
       "\n",
       "   target_kfold  target_loo  target_smoothing  target_exp_mean  \n",
       "0      0.334300    0.022727          0.237448           0.3343  \n",
       "1      0.048523    0.056911          0.089905           0.3343  \n",
       "2      0.142424    0.141414          0.168964           0.3343  \n",
       "3      0.030303    0.037500          0.107910           0.3343  \n",
       "4      0.894020    1.316088          1.260635           0.3343  "
      ]
     },
     "execution_count": 9,
     "metadata": {},
     "output_type": "execute_result"
    }
   ],
   "source": [
    "from prepare_data import k_fold_mean, loo_mean, smoothing_mean, expanding_mean\n",
    "\n",
    "all_data, target_kf  = k_fold_mean(all_data)\n",
    "all_data, target_loo = loo_mean(all_data)\n",
    "all_data, target_sm = smoothing_mean(all_data)\n",
    "all_data, target_exp = expanding_mean(all_data)\n",
    "all_data.head()"
   ]
  },
  {
   "cell_type": "code",
   "execution_count": null,
   "metadata": {},
   "outputs": [],
   "source": [
    "y_train = all_data.target.astype('int32')\n",
    "X_train = all_data.drop(columns=['target'])\n",
    "print(y_train.head())\n",
    "print(X_train.head())"
   ]
  },
  {
   "cell_type": "markdown",
   "metadata": {},
   "source": [
    "The test data must have the same features:"
   ]
  },
  {
   "cell_type": "code",
   "execution_count": null,
   "metadata": {},
   "outputs": [],
   "source": [
    "from prepare_data import prepare_test\n",
    "X_test = prepare_test(test)\n",
    "\n",
    "X_test = join_to_existing(X_test, target_mean, index_cols)\n",
    "X_test = join_to_existing(X_test, target_kf, index_cols)\n",
    "X_test = join_to_existing(X_test, target_loo, index_cols)\n",
    "X_test = join_to_existing(X_test, target_sm, index_cols)\n",
    "X_test = join_to_existing(X_test, target_exp, index_cols)\n",
    "X_test.head()"
   ]
  },
  {
   "cell_type": "code",
   "execution_count": null,
   "metadata": {},
   "outputs": [],
   "source": [
    "#idx_item1 = df_train.item_price[df.item_price <= 0]\n",
    "#idx_item2 = df_train.item_price[df.item_price > 100000]\n",
    "\n",
    "#df_train.drop(df_train.index[idx_item2.index[0]], inplace=True)\n",
    "#df_train.item_price.replace(to_replace=-1, value=2499.0 , inplace=True) "
   ]
  },
  {
   "cell_type": "code",
   "execution_count": null,
   "metadata": {},
   "outputs": [],
   "source": [
    "#df_train.drop(columns=['item_name', 'shop_name', 'date', 'item_category_name', 'day'], inplace=True)"
   ]
  },
  {
   "cell_type": "code",
   "execution_count": null,
   "metadata": {},
   "outputs": [],
   "source": [
    "#print(df_train.item_price.min())\n",
    "#print(df_train.item_price.max())"
   ]
  },
  {
   "cell_type": "code",
   "execution_count": null,
   "metadata": {},
   "outputs": [],
   "source": [
    "#df_train.sort_values(by=['date_block_num'], axis=0, inplace=True)\n",
    "#df_train.head()"
   ]
  },
  {
   "cell_type": "code",
   "execution_count": null,
   "metadata": {},
   "outputs": [],
   "source": [
    "#df_train=df_train.groupby(['date_block_num', 'shop_id', 'item_id'], as_index=False).item_cnt_day.sum()\n",
    "#df_monthly=df_monthly.rename(columns={'item_cnt_day': 'item_cnt_month'}).astype('int32')\n",
    "#df_monthly=df_monthly.reset_index().astype('int32')"
   ]
  },
  {
   "cell_type": "code",
   "execution_count": null,
   "metadata": {},
   "outputs": [],
   "source": [
    "#monthly_mean=df_monthly[['shop_id','item_id','item_cnt_month']].groupby(['shop_id','item_id'], as_index=False)[['item_cnt_month']].mean()\n",
    "#monthly_mean=monthly_mean.rename(columns={'item_cnt_month':'mean_item_cnt'}).astype('float32')\n",
    "#df_monthly=pd.merge(df_monthly, monthly_mean, how='left', on=['shop_id', 'item_id'])"
   ]
  },
  {
   "cell_type": "code",
   "execution_count": null,
   "metadata": {},
   "outputs": [],
   "source": [
    "#prev_month = df_monthly\n",
    "#df_monthly = df_monthly"
   ]
  },
  {
   "cell_type": "code",
   "execution_count": null,
   "metadata": {},
   "outputs": [],
   "source": [
    "#monthly_sales=sales.groupby([\"date_block_num\",\"shop_id\",\"item_id\"])[\n",
    "#    \"date\",\"item_price\",\"item_cnt_day\"].agg({\"date\":[\"min\",'max'],\"item_price\":\"mean\",\"item_cnt_day\":\"sum\"})"
   ]
  },
  {
   "cell_type": "markdown",
   "metadata": {},
   "source": [
    "So, ready to train and validate, i.e. separate train data into train and validation set and train with xgboost or sth. else. Then prepare test data."
   ]
  },
  {
   "cell_type": "code",
   "execution_count": null,
   "metadata": {},
   "outputs": [],
   "source": [
    "#XGBoost\n",
    "def xgb_rmse(preds, y):\n",
    "    y = y.get_label()\n",
    "    score = np.sqrt(metrics.mean_squared_error(y.clip(0.,20.), preds.clip(0.,20.)))\n",
    "    return 'RMSE', score\n",
    "\n",
    "params = {'eta': 0.2, 'max_depth': 4, 'objective': 'reg:linear', 'eval_metric': 'rmse', 'seed': 18, 'silent': True}\n",
    "\n",
    "watchlist = [(xgb.DMatrix(x1, y1), 'train'), (xgb.DMatrix(x2, y2), 'valid')]\n",
    "xgb_model = xgb.train(params, xgb.DMatrix(x1, y1), 100,  watchlist, verbose_eval=10, feval=xgb_rmse, maximize=False, early_stopping_rounds=20)\n",
    "test['item_cnt_month'] = xgb_model.predict(xgb.DMatrix(test[col]), ntree_limit=xgb_model.best_ntree_limit)\n",
    "test[['ID','item_cnt_month']].to_csv('xgb_submission.csv', index=False)\n",
    "\n"
   ]
  },
  {
   "cell_type": "code",
   "execution_count": null,
   "metadata": {},
   "outputs": [],
   "source": []
  }
 ],
 "metadata": {
  "kernelspec": {
   "display_name": "Python [conda env:ipykernel_py2]",
   "language": "python",
   "name": "conda-env-ipykernel_py2-py"
  },
  "language_info": {
   "codemirror_mode": {
    "name": "ipython",
    "version": 2
   },
   "file_extension": ".py",
   "mimetype": "text/x-python",
   "name": "python",
   "nbconvert_exporter": "python",
   "pygments_lexer": "ipython2",
   "version": "2.7.14"
  }
 },
 "nbformat": 4,
 "nbformat_minor": 2
}
