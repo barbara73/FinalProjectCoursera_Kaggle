{
 "cells": [
  {
   "cell_type": "markdown",
   "metadata": {},
   "source": [
    "Version 1.0.1, Python 2.7.14, conda 4.3.34"
   ]
  },
  {
   "cell_type": "code",
   "execution_count": 1,
   "metadata": {},
   "outputs": [
    {
     "name": "stdout",
     "output_type": "stream",
     "text": [
      "('numpy', '1.14.2')\n",
      "('pandas', u'0.22.0')\n",
      "('xgboost', '0.7.post3')\n"
     ]
    }
   ],
   "source": [
    "import xgboost as xgb\n",
    "import pandas as pd\n",
    "import numpy as np\n",
    "#import lightgbm as lgb\n",
    "#from catboost import CatBoostRegressor\n",
    "#from multiprocessing import *\n",
    "\n",
    "#import sys\n",
    "\n",
    "from sklearn.metrics import mean_squared_error\n",
    "from prepare_data1 import k_fold_mean, loo_mean, smoothing_mean, expanding_mean\n",
    "from prepare_data1 import make_grid, get_target, join_to_existing, prepare_test\n",
    "from prepare_data1 import count_categories, create_df\n",
    "\n",
    "import matplotlib.pyplot as plt\n",
    "%matplotlib inline\n",
    "\n",
    "for p in [np, pd, xgb]:\n",
    "    print (p.__name__, p.__version__)"
   ]
  },
  {
   "cell_type": "markdown",
   "metadata": {},
   "source": [
    "Load the data:"
   ]
  },
  {
   "cell_type": "code",
   "execution_count": 2,
   "metadata": {},
   "outputs": [
    {
     "name": "stdout",
     "output_type": "stream",
     "text": [
      "(214200, 3)\n"
     ]
    }
   ],
   "source": [
    "from prepare_data import read_data\n",
    "sales, items, categories, shops, test = read_data()\n",
    "print(test.shape)"
   ]
  },
  {
   "cell_type": "markdown",
   "metadata": {},
   "source": [
    "Create a data frame with all the informations given:"
   ]
  },
  {
   "cell_type": "code",
   "execution_count": 3,
   "metadata": {},
   "outputs": [
    {
     "data": {
      "text/html": [
       "<div>\n",
       "<style scoped>\n",
       "    .dataframe tbody tr th:only-of-type {\n",
       "        vertical-align: middle;\n",
       "    }\n",
       "\n",
       "    .dataframe tbody tr th {\n",
       "        vertical-align: top;\n",
       "    }\n",
       "\n",
       "    .dataframe thead th {\n",
       "        text-align: right;\n",
       "    }\n",
       "</style>\n",
       "<table border=\"1\" class=\"dataframe\">\n",
       "  <thead>\n",
       "    <tr style=\"text-align: right;\">\n",
       "      <th></th>\n",
       "      <th>date</th>\n",
       "      <th>date_block_num</th>\n",
       "      <th>shop_id</th>\n",
       "      <th>item_id</th>\n",
       "      <th>item_price</th>\n",
       "      <th>item_cnt_day</th>\n",
       "      <th>item_name</th>\n",
       "      <th>item_category_id</th>\n",
       "      <th>item_category_name</th>\n",
       "      <th>shop_name</th>\n",
       "      <th>year</th>\n",
       "      <th>month</th>\n",
       "    </tr>\n",
       "  </thead>\n",
       "  <tbody>\n",
       "    <tr>\n",
       "      <th>0</th>\n",
       "      <td>02.01.2013</td>\n",
       "      <td>0</td>\n",
       "      <td>59</td>\n",
       "      <td>22154</td>\n",
       "      <td>999.0</td>\n",
       "      <td>1.0</td>\n",
       "      <td>ЯВЛЕНИЕ 2012 (BD)</td>\n",
       "      <td>37</td>\n",
       "      <td>Кино - Blu-Ray</td>\n",
       "      <td>Ярославль ТЦ \"Альтаир\"</td>\n",
       "      <td>2013</td>\n",
       "      <td>1</td>\n",
       "    </tr>\n",
       "    <tr>\n",
       "      <th>1</th>\n",
       "      <td>26.04.2013</td>\n",
       "      <td>3</td>\n",
       "      <td>59</td>\n",
       "      <td>944</td>\n",
       "      <td>150.0</td>\n",
       "      <td>1.0</td>\n",
       "      <td>2012 (BD)</td>\n",
       "      <td>37</td>\n",
       "      <td>Кино - Blu-Ray</td>\n",
       "      <td>Ярославль ТЦ \"Альтаир\"</td>\n",
       "      <td>2013</td>\n",
       "      <td>4</td>\n",
       "    </tr>\n",
       "    <tr>\n",
       "      <th>2</th>\n",
       "      <td>26.06.2013</td>\n",
       "      <td>5</td>\n",
       "      <td>59</td>\n",
       "      <td>944</td>\n",
       "      <td>199.5</td>\n",
       "      <td>1.0</td>\n",
       "      <td>2012 (BD)</td>\n",
       "      <td>37</td>\n",
       "      <td>Кино - Blu-Ray</td>\n",
       "      <td>Ярославль ТЦ \"Альтаир\"</td>\n",
       "      <td>2013</td>\n",
       "      <td>6</td>\n",
       "    </tr>\n",
       "    <tr>\n",
       "      <th>3</th>\n",
       "      <td>20.07.2013</td>\n",
       "      <td>6</td>\n",
       "      <td>59</td>\n",
       "      <td>944</td>\n",
       "      <td>199.5</td>\n",
       "      <td>1.0</td>\n",
       "      <td>2012 (BD)</td>\n",
       "      <td>37</td>\n",
       "      <td>Кино - Blu-Ray</td>\n",
       "      <td>Ярославль ТЦ \"Альтаир\"</td>\n",
       "      <td>2013</td>\n",
       "      <td>7</td>\n",
       "    </tr>\n",
       "    <tr>\n",
       "      <th>4</th>\n",
       "      <td>14.09.2013</td>\n",
       "      <td>8</td>\n",
       "      <td>59</td>\n",
       "      <td>944</td>\n",
       "      <td>299.0</td>\n",
       "      <td>2.0</td>\n",
       "      <td>2012 (BD)</td>\n",
       "      <td>37</td>\n",
       "      <td>Кино - Blu-Ray</td>\n",
       "      <td>Ярославль ТЦ \"Альтаир\"</td>\n",
       "      <td>2013</td>\n",
       "      <td>9</td>\n",
       "    </tr>\n",
       "  </tbody>\n",
       "</table>\n",
       "</div>"
      ],
      "text/plain": [
       "         date  date_block_num  shop_id  item_id  item_price  item_cnt_day  \\\n",
       "0  02.01.2013               0       59    22154       999.0           1.0   \n",
       "1  26.04.2013               3       59      944       150.0           1.0   \n",
       "2  26.06.2013               5       59      944       199.5           1.0   \n",
       "3  20.07.2013               6       59      944       199.5           1.0   \n",
       "4  14.09.2013               8       59      944       299.0           2.0   \n",
       "\n",
       "           item_name  item_category_id item_category_name  \\\n",
       "0  ЯВЛЕНИЕ 2012 (BD)                37     Кино - Blu-Ray   \n",
       "1          2012 (BD)                37     Кино - Blu-Ray   \n",
       "2          2012 (BD)                37     Кино - Blu-Ray   \n",
       "3          2012 (BD)                37     Кино - Blu-Ray   \n",
       "4          2012 (BD)                37     Кино - Blu-Ray   \n",
       "\n",
       "                shop_name  year  month  \n",
       "0  Ярославль ТЦ \"Альтаир\"  2013      1  \n",
       "1  Ярославль ТЦ \"Альтаир\"  2013      4  \n",
       "2  Ярославль ТЦ \"Альтаир\"  2013      6  \n",
       "3  Ярославль ТЦ \"Альтаир\"  2013      7  \n",
       "4  Ярославль ТЦ \"Альтаир\"  2013      9  "
      ]
     },
     "execution_count": 3,
     "metadata": {},
     "output_type": "execute_result"
    }
   ],
   "source": [
    "df = create_df(sales, items, categories, shops) \n",
    "df.head()"
   ]
  },
  {
   "cell_type": "code",
   "execution_count": 20,
   "metadata": {},
   "outputs": [],
   "source": [
    "index_3 = ['shop_id', 'item_id', 'date_block_num']\n",
    "\n",
    "grid = make_grid(sales, index_3)\n",
    "target = get_target(sales, index_3)\n",
    "all_data = join_to_existing(grid, target, index_3, 0)"
   ]
  },
  {
   "cell_type": "code",
   "execution_count": 7,
   "metadata": {},
   "outputs": [],
   "source": [
    "all_data.sort_values(['date_block_num','shop_id','item_id'],inplace=True)\n",
    "\n",
    "all_data = all_data.assign(month = (all_data.date_block_num%12)+1)\n",
    "all_data = all_data.assign(year = 2013)\n",
    "all_data['year'] = np.where(all_data.date_block_num < 12, 2013, 2014)\n",
    "all_data['year'] = np.where(all_data.date_block_num > 23, 2015, all_data.year)\n",
    "\n",
    "\n",
    "categories = df[['shop_id', 'item_id', 'date_block_num', 'item_category_id']]\n",
    "category = count_categories(categories, index_3)\n",
    "all_data = join_to_existing(all_data, category, index_3, 0)\n",
    "\n",
    "\n",
    "#make function of this one\n",
    "target_mean = all_data[['shop_id','item_id','target']].groupby(['shop_id','item_id'], as_index=False)[['target']].mean()\n",
    "target_mean = target_mean.rename(columns={'target':'target_mean'})\n",
    "\n",
    "\n",
    "index_cols = ['shop_id', 'item_id']\n",
    "all_data = join_to_existing(all_data, target_mean, index_cols, 0)\n",
    "all_data = all_data.astype('float32')"
   ]
  },
  {
   "cell_type": "code",
   "execution_count": 8,
   "metadata": {},
   "outputs": [],
   "source": [
    "all_data, target_kf  = k_fold_mean(all_data, 'target', 0.3343)\n",
    "all_data = all_data.rename(columns={'new_name':'target_kf'})\n",
    "all_data, target_loo = loo_mean(all_data, 'target', 0.3343)\n",
    "all_data = all_data.rename(columns={'new_name':'target_loo'})\n",
    "all_data, target_sm = smoothing_mean(all_data, 'target', 0.3343)\n",
    "all_data = all_data.rename(columns={'new_name':'target_sm'})\n",
    "all_data, target_exp = expanding_mean(all_data, 'target', 0.3343)\n",
    "all_data = all_data.rename(columns={'new_name':'target_exp'})"
   ]
  },
  {
   "cell_type": "markdown",
   "metadata": {},
   "source": [
    "Add more features:"
   ]
  },
  {
   "cell_type": "code",
   "execution_count": 9,
   "metadata": {},
   "outputs": [
    {
     "data": {
      "text/html": [
       "<div>\n",
       "<style scoped>\n",
       "    .dataframe tbody tr th:only-of-type {\n",
       "        vertical-align: middle;\n",
       "    }\n",
       "\n",
       "    .dataframe tbody tr th {\n",
       "        vertical-align: top;\n",
       "    }\n",
       "\n",
       "    .dataframe thead th {\n",
       "        text-align: right;\n",
       "    }\n",
       "</style>\n",
       "<table border=\"1\" class=\"dataframe\">\n",
       "  <thead>\n",
       "    <tr style=\"text-align: right;\">\n",
       "      <th></th>\n",
       "      <th>shop_id</th>\n",
       "      <th>item_id</th>\n",
       "      <th>date_block_num</th>\n",
       "      <th>target</th>\n",
       "      <th>month</th>\n",
       "      <th>year</th>\n",
       "      <th>count_category</th>\n",
       "      <th>target_mean</th>\n",
       "      <th>target_kf</th>\n",
       "      <th>target_loo</th>\n",
       "      <th>target_sm</th>\n",
       "      <th>target_exp</th>\n",
       "      <th>category_kf</th>\n",
       "      <th>category_loo</th>\n",
       "      <th>category_sm</th>\n",
       "      <th>category_exp</th>\n",
       "    </tr>\n",
       "  </thead>\n",
       "  <tbody>\n",
       "    <tr>\n",
       "      <th>0</th>\n",
       "      <td>0.0</td>\n",
       "      <td>19.0</td>\n",
       "      <td>0.0</td>\n",
       "      <td>0.0</td>\n",
       "      <td>1.0</td>\n",
       "      <td>2013.0</td>\n",
       "      <td>0.0</td>\n",
       "      <td>0.0</td>\n",
       "      <td>0.334300</td>\n",
       "      <td>0.022727</td>\n",
       "      <td>0.237448</td>\n",
       "      <td>0.3343</td>\n",
       "      <td>0.000000</td>\n",
       "      <td>0.022727</td>\n",
       "      <td>0.006897</td>\n",
       "      <td>0.0</td>\n",
       "    </tr>\n",
       "    <tr>\n",
       "      <th>1</th>\n",
       "      <td>0.0</td>\n",
       "      <td>27.0</td>\n",
       "      <td>0.0</td>\n",
       "      <td>0.0</td>\n",
       "      <td>1.0</td>\n",
       "      <td>2013.0</td>\n",
       "      <td>0.0</td>\n",
       "      <td>0.0</td>\n",
       "      <td>0.048523</td>\n",
       "      <td>0.056911</td>\n",
       "      <td>0.089905</td>\n",
       "      <td>0.3343</td>\n",
       "      <td>0.048523</td>\n",
       "      <td>0.056911</td>\n",
       "      <td>0.050060</td>\n",
       "      <td>0.0</td>\n",
       "    </tr>\n",
       "    <tr>\n",
       "      <th>2</th>\n",
       "      <td>0.0</td>\n",
       "      <td>28.0</td>\n",
       "      <td>0.0</td>\n",
       "      <td>0.0</td>\n",
       "      <td>1.0</td>\n",
       "      <td>2013.0</td>\n",
       "      <td>0.0</td>\n",
       "      <td>0.0</td>\n",
       "      <td>0.142424</td>\n",
       "      <td>0.141414</td>\n",
       "      <td>0.168964</td>\n",
       "      <td>0.3343</td>\n",
       "      <td>0.142424</td>\n",
       "      <td>0.144781</td>\n",
       "      <td>0.123741</td>\n",
       "      <td>0.0</td>\n",
       "    </tr>\n",
       "    <tr>\n",
       "      <th>3</th>\n",
       "      <td>0.0</td>\n",
       "      <td>29.0</td>\n",
       "      <td>0.0</td>\n",
       "      <td>0.0</td>\n",
       "      <td>1.0</td>\n",
       "      <td>2013.0</td>\n",
       "      <td>0.0</td>\n",
       "      <td>0.0</td>\n",
       "      <td>0.030303</td>\n",
       "      <td>0.037500</td>\n",
       "      <td>0.107910</td>\n",
       "      <td>0.3343</td>\n",
       "      <td>0.030303</td>\n",
       "      <td>0.043750</td>\n",
       "      <td>0.033254</td>\n",
       "      <td>0.0</td>\n",
       "    </tr>\n",
       "    <tr>\n",
       "      <th>4</th>\n",
       "      <td>0.0</td>\n",
       "      <td>32.0</td>\n",
       "      <td>0.0</td>\n",
       "      <td>6.0</td>\n",
       "      <td>1.0</td>\n",
       "      <td>2013.0</td>\n",
       "      <td>4.0</td>\n",
       "      <td>8.0</td>\n",
       "      <td>0.894020</td>\n",
       "      <td>1.316088</td>\n",
       "      <td>1.260635</td>\n",
       "      <td>0.3343</td>\n",
       "      <td>0.847843</td>\n",
       "      <td>1.184858</td>\n",
       "      <td>1.117438</td>\n",
       "      <td>0.0</td>\n",
       "    </tr>\n",
       "  </tbody>\n",
       "</table>\n",
       "</div>"
      ],
      "text/plain": [
       "   shop_id  item_id  date_block_num  target  month    year  count_category  \\\n",
       "0      0.0     19.0             0.0     0.0    1.0  2013.0             0.0   \n",
       "1      0.0     27.0             0.0     0.0    1.0  2013.0             0.0   \n",
       "2      0.0     28.0             0.0     0.0    1.0  2013.0             0.0   \n",
       "3      0.0     29.0             0.0     0.0    1.0  2013.0             0.0   \n",
       "4      0.0     32.0             0.0     6.0    1.0  2013.0             4.0   \n",
       "\n",
       "   target_mean  target_kf  target_loo  target_sm  target_exp  category_kf  \\\n",
       "0          0.0   0.334300    0.022727   0.237448      0.3343     0.000000   \n",
       "1          0.0   0.048523    0.056911   0.089905      0.3343     0.048523   \n",
       "2          0.0   0.142424    0.141414   0.168964      0.3343     0.142424   \n",
       "3          0.0   0.030303    0.037500   0.107910      0.3343     0.030303   \n",
       "4          8.0   0.894020    1.316088   1.260635      0.3343     0.847843   \n",
       "\n",
       "   category_loo  category_sm  category_exp  \n",
       "0      0.022727     0.006897           0.0  \n",
       "1      0.056911     0.050060           0.0  \n",
       "2      0.144781     0.123741           0.0  \n",
       "3      0.043750     0.033254           0.0  \n",
       "4      1.184858     1.117438           0.0  "
      ]
     },
     "execution_count": 9,
     "metadata": {},
     "output_type": "execute_result"
    }
   ],
   "source": [
    "all_data, category_kf = k_fold_mean(all_data, 'count_category', 0)\n",
    "all_data = all_data.rename(columns={'new_name':'category_kf'})\n",
    "all_data, category_loo = loo_mean(all_data, 'count_category', 0)\n",
    "all_data = all_data.rename(columns={'new_name':'category_loo'})\n",
    "all_data, category_sm = smoothing_mean(all_data, 'count_category', 0)\n",
    "all_data = all_data.rename(columns={'new_name':'category_sm'})\n",
    "all_data, category_exp = expanding_mean(all_data, 'count_category', 0)\n",
    "all_data = all_data.rename(columns={'new_name':'category_exp'})\n",
    "all_data.head()"
   ]
  },
  {
   "cell_type": "markdown",
   "metadata": {},
   "source": [
    "Create training data:"
   ]
  },
  {
   "cell_type": "code",
   "execution_count": 11,
   "metadata": {},
   "outputs": [
    {
     "name": "stdout",
     "output_type": "stream",
     "text": [
      "(10913850,)\n",
      "(10913850, 15)\n",
      "<class 'pandas.core.frame.DataFrame'>\n",
      "Int64Index: 10913850 entries, 0 to 10913849\n",
      "Data columns (total 15 columns):\n",
      "shop_id           float32\n",
      "item_id           float32\n",
      "date_block_num    float32\n",
      "month             float32\n",
      "year              float32\n",
      "count_category    float32\n",
      "target_mean       float32\n",
      "target_kf         float32\n",
      "target_loo        float32\n",
      "target_sm         float32\n",
      "target_exp        float32\n",
      "category_kf       float32\n",
      "category_loo      float32\n",
      "category_sm       float32\n",
      "category_exp      float32\n",
      "dtypes: float32(15)\n",
      "memory usage: 707.8 MB\n"
     ]
    }
   ],
   "source": [
    "y = all_data.target.astype('int32')\n",
    "X = all_data.drop(columns=['target'])\n",
    "print(y.shape)\n",
    "print(X.shape)\n",
    "X.head()\n",
    "X.info()"
   ]
  },
  {
   "cell_type": "markdown",
   "metadata": {},
   "source": [
    "Create test data with same features as train data:"
   ]
  },
  {
   "cell_type": "code",
   "execution_count": 22,
   "metadata": {},
   "outputs": [
    {
     "data": {
      "text/html": [
       "<div>\n",
       "<style scoped>\n",
       "    .dataframe tbody tr th:only-of-type {\n",
       "        vertical-align: middle;\n",
       "    }\n",
       "\n",
       "    .dataframe tbody tr th {\n",
       "        vertical-align: top;\n",
       "    }\n",
       "\n",
       "    .dataframe thead th {\n",
       "        text-align: right;\n",
       "    }\n",
       "</style>\n",
       "<table border=\"1\" class=\"dataframe\">\n",
       "  <thead>\n",
       "    <tr style=\"text-align: right;\">\n",
       "      <th></th>\n",
       "      <th>shop_id</th>\n",
       "      <th>item_id</th>\n",
       "      <th>date_block_num</th>\n",
       "      <th>month</th>\n",
       "      <th>year</th>\n",
       "      <th>count_category</th>\n",
       "    </tr>\n",
       "  </thead>\n",
       "  <tbody>\n",
       "    <tr>\n",
       "      <th>0</th>\n",
       "      <td>5</td>\n",
       "      <td>5037</td>\n",
       "      <td>34</td>\n",
       "      <td>11</td>\n",
       "      <td>2015</td>\n",
       "      <td>0.0</td>\n",
       "    </tr>\n",
       "    <tr>\n",
       "      <th>1</th>\n",
       "      <td>5</td>\n",
       "      <td>5320</td>\n",
       "      <td>34</td>\n",
       "      <td>11</td>\n",
       "      <td>2015</td>\n",
       "      <td>0.0</td>\n",
       "    </tr>\n",
       "    <tr>\n",
       "      <th>2</th>\n",
       "      <td>5</td>\n",
       "      <td>5233</td>\n",
       "      <td>34</td>\n",
       "      <td>11</td>\n",
       "      <td>2015</td>\n",
       "      <td>0.0</td>\n",
       "    </tr>\n",
       "    <tr>\n",
       "      <th>3</th>\n",
       "      <td>5</td>\n",
       "      <td>5232</td>\n",
       "      <td>34</td>\n",
       "      <td>11</td>\n",
       "      <td>2015</td>\n",
       "      <td>0.0</td>\n",
       "    </tr>\n",
       "    <tr>\n",
       "      <th>4</th>\n",
       "      <td>5</td>\n",
       "      <td>5268</td>\n",
       "      <td>34</td>\n",
       "      <td>11</td>\n",
       "      <td>2015</td>\n",
       "      <td>0.0</td>\n",
       "    </tr>\n",
       "  </tbody>\n",
       "</table>\n",
       "</div>"
      ],
      "text/plain": [
       "   shop_id  item_id  date_block_num  month  year  count_category\n",
       "0        5     5037              34     11  2015             0.0\n",
       "1        5     5320              34     11  2015             0.0\n",
       "2        5     5233              34     11  2015             0.0\n",
       "3        5     5232              34     11  2015             0.0\n",
       "4        5     5268              34     11  2015             0.0"
      ]
     },
     "execution_count": 22,
     "metadata": {},
     "output_type": "execute_result"
    }
   ],
   "source": [
    "X_test = prepare_test(test)\n",
    "X_test = join_to_existing(X_test, category, index_3, 0)\n",
    "X_test = join_to_existing(X_test, target_mean, index_cols, 0.3343)\n",
    "X_test.head()"
   ]
  },
  {
   "cell_type": "markdown",
   "metadata": {},
   "source": [
    "check the merging, maybe there is a better solution, without writing all the indices."
   ]
  },
  {
   "cell_type": "code",
   "execution_count": 25,
   "metadata": {},
   "outputs": [
    {
     "data": {
      "text/plain": [
       "(214200, 15)"
      ]
     },
     "execution_count": 25,
     "metadata": {},
     "output_type": "execute_result"
    }
   ],
   "source": [
    "X_kf = X_test.merge(target_kf, on=index_cols)\n",
    "X_kf = X_kf.rename(columns={'new_name':'target_kf'})\n",
    "index = ['shop_id', 'item_id', 'date_block_num', 'month', 'year', 'count_category', 'target_mean']\n",
    "X_kf = X_kf.groupby(index, as_index=False)[['target_kf']].min()#try also with min\n",
    "X_test = join_to_existing(X_test, X_kf, index, 0.3343)\n",
    "\n",
    "X_loo = X_test.merge(target_loo, on=index_cols)\n",
    "X_loo = X_loo.rename(columns={'new_name':'target_loo'})\n",
    "index = ['shop_id', 'item_id', 'date_block_num', 'month', 'year', 'count_category', 'target_mean', 'target_kf']\n",
    "X_loo = X_loo.groupby(index, as_index=False)[['target_loo']].min()#try also with min\n",
    "X_test = join_to_existing(X_test, X_loo, index, 0.3343)\n",
    "\n",
    "X_sm = X_test.merge(target_sm, on=index_cols)\n",
    "X_sm = X_sm.rename(columns={'new_name':'target_sm'})\n",
    "index = ['shop_id', 'item_id', 'date_block_num', 'month', 'year', 'count_category', 'target_mean', 'target_kf', 'target_loo']\n",
    "X_sm = X_sm.groupby(index, as_index=False)[['target_sm']].min()#try also with min\n",
    "X_test = join_to_existing(X_test, X_sm, index, 0.3343)\n",
    "\n",
    "X_exp = X_test.merge(target_exp, on=index_cols)\n",
    "X_exp = X_exp.rename(columns={'new_name':'target_exp'})\n",
    "index = ['shop_id', 'item_id', 'date_block_num', 'month', 'year', 'count_category', 'target_mean', 'target_kf', 'target_loo', 'target_sm']\n",
    "X_exp = X_exp.groupby(index, as_index=False)[['target_exp']].min()#try also with min\n",
    "X_test = join_to_existing(X_test, X_exp, index, 0.3343)\n",
    "\n",
    "\n",
    "X_kf = X_test.merge(category_kf, on=index_cols)\n",
    "X_kf = X_kf.rename(columns={'new_name':'category_kf'})\n",
    "index = ['shop_id', 'item_id', 'date_block_num', 'month', 'year', 'count_category', 'target_mean', 'target_kf', 'target_loo', 'target_sm', 'target_exp']\n",
    "X_kf = X_kf.groupby(index, as_index=False)[['category_kf']].mean()#try also with min\n",
    "X_test = join_to_existing(X_test, X_kf, index, 0)\n",
    "\n",
    "X_loo = X_test.merge(category_loo, on=index_cols)\n",
    "X_loo = X_loo.rename(columns={'new_name':'category_loo'})\n",
    "index = ['shop_id', 'item_id', 'date_block_num', 'month', 'year', 'count_category', 'target_mean', 'target_kf', 'target_loo', 'target_sm', 'target_exp','category_kf']\n",
    "X_loo = X_loo.groupby(index, as_index=False)[['category_loo']].mean()#try also with min\n",
    "X_test = join_to_existing(X_test, X_loo, index, 0)\n",
    "\n",
    "X_sm = X_test.merge(category_sm, on=index_cols)\n",
    "X_sm = X_sm.rename(columns={'new_name':'category_sm'})\n",
    "index = ['shop_id', 'item_id', 'date_block_num', 'month', 'year', 'count_category', 'target_mean', 'target_kf', 'target_loo', 'target_sm', 'target_exp','category_kf', 'category_loo']\n",
    "X_sm = X_sm.groupby(index, as_index=False)[['category_sm']].mean()#try also with min\n",
    "X_test = join_to_existing(X_test, X_sm, index, 0)\n",
    "\n",
    "X_exp = X_test.merge(category_exp, on=index_cols)\n",
    "X_exp = X_exp.rename(columns={'new_name':'category_exp'})\n",
    "index = ['shop_id', 'item_id', 'date_block_num', 'month', 'year', 'count_category', 'target_mean', 'target_kf', 'target_loo', 'target_sm','target_exp','category_kf', 'category_loo', 'category_sm']\n",
    "X_exp = X_exp.groupby(index, as_index=False)[['category_exp']].mean()#try also with min\n",
    "X_test = join_to_existing(X_test, X_exp, index, 0)\n",
    "\n",
    "\n",
    "X_test = X_test.astype('float32')\n",
    "X_test.shape"
   ]
  },
  {
   "cell_type": "markdown",
   "metadata": {},
   "source": [
    "Create validation set:"
   ]
  },
  {
   "cell_type": "code",
   "execution_count": 26,
   "metadata": {},
   "outputs": [],
   "source": [
    "X_train = X[X.date_block_num < 33]\n",
    "X_valid = X[X.date_block_num == 33]\n",
    "y_train = y[:len(X_train)]\n",
    "y_valid = y[len(X_train):]"
   ]
  },
  {
   "cell_type": "code",
   "execution_count": null,
   "metadata": {},
   "outputs": [],
   "source": []
  },
  {
   "cell_type": "code",
   "execution_count": null,
   "metadata": {},
   "outputs": [],
   "source": [
    "#idx_item1 = df_train.item_price[df.item_price <= 0]\n",
    "#idx_item2 = df_train.item_price[df.item_price > 100000]\n",
    "\n",
    "#df_train.drop(df_train.index[idx_item2.index[0]], inplace=True)\n",
    "#df_train.item_price.replace(to_replace=-1, value=2499.0 , inplace=True) "
   ]
  },
  {
   "cell_type": "code",
   "execution_count": null,
   "metadata": {},
   "outputs": [],
   "source": [
    "#df_train.drop(columns=['item_name', 'shop_name', 'date', 'item_category_name', 'day'], inplace=True)"
   ]
  },
  {
   "cell_type": "code",
   "execution_count": null,
   "metadata": {},
   "outputs": [],
   "source": [
    "#print(df_train.item_price.min())\n",
    "#print(df_train.item_price.max())"
   ]
  },
  {
   "cell_type": "code",
   "execution_count": null,
   "metadata": {},
   "outputs": [],
   "source": [
    "#df_train.sort_values(by=['date_block_num'], axis=0, inplace=True)\n",
    "#df_train.head()"
   ]
  },
  {
   "cell_type": "code",
   "execution_count": null,
   "metadata": {},
   "outputs": [],
   "source": [
    "#df_train=df_train.groupby(['date_block_num', 'shop_id', 'item_id'], as_index=False).item_cnt_day.sum()\n",
    "#df_monthly=df_monthly.rename(columns={'item_cnt_day': 'item_cnt_month'}).astype('int32')\n",
    "#df_monthly=df_monthly.reset_index().astype('int32')"
   ]
  },
  {
   "cell_type": "code",
   "execution_count": null,
   "metadata": {},
   "outputs": [],
   "source": []
  },
  {
   "cell_type": "code",
   "execution_count": null,
   "metadata": {},
   "outputs": [],
   "source": [
    "#prev_month = df_monthly\n",
    "#df_monthly = df_monthly"
   ]
  },
  {
   "cell_type": "code",
   "execution_count": null,
   "metadata": {},
   "outputs": [],
   "source": [
    "#monthly_sales=sales.groupby([\"date_block_num\",\"shop_id\",\"item_id\"])[\n",
    "#    \"date\",\"item_price\",\"item_cnt_day\"].agg({\"date\":[\"min\",'max'],\"item_price\":\"mean\",\"item_cnt_day\":\"sum\"})"
   ]
  },
  {
   "cell_type": "markdown",
   "metadata": {},
   "source": [
    "So, ready to train and validate, i.e. separate train data into train and validation set and train with xgboost or sth. else. Then prepare test data."
   ]
  },
  {
   "cell_type": "code",
   "execution_count": 27,
   "metadata": {},
   "outputs": [],
   "source": [
    "#XGBoost\n",
    "def xgb_rmse(preds, y):\n",
    "    y = y.get_label()\n",
    "    score = np.sqrt(mean_squared_error(y.clip(0.,20.), preds.clip(0.,20.)))\n",
    "    return 'RMSE', score"
   ]
  },
  {
   "cell_type": "code",
   "execution_count": 28,
   "metadata": {},
   "outputs": [
    {
     "name": "stdout",
     "output_type": "stream",
     "text": [
      "[0]\ttrain-rmse:3.06838\tvalid-rmse:5.21173\ttrain-RMSE:1.07926\tvalid-RMSE:1.04805\n",
      "Multiple eval metrics have been passed: 'valid-RMSE' will be used for early stopping.\n",
      "\n",
      "Will train until valid-RMSE hasn't improved in 20 rounds.\n",
      "[10]\ttrain-rmse:2.10324\tvalid-rmse:4.77915\ttrain-RMSE:0.436589\tvalid-RMSE:0.550111\n",
      "[20]\ttrain-rmse:1.98174\tvalid-rmse:4.66571\ttrain-RMSE:0.35391\tvalid-RMSE:0.462459\n",
      "[30]\ttrain-rmse:1.94983\tvalid-rmse:4.6598\ttrain-RMSE:0.351589\tvalid-RMSE:0.458056\n",
      "[40]\ttrain-rmse:1.93618\tvalid-rmse:4.63453\ttrain-RMSE:0.349867\tvalid-RMSE:0.448821\n",
      "[50]\ttrain-rmse:1.91142\tvalid-rmse:4.59427\ttrain-RMSE:0.349661\tvalid-RMSE:0.478965\n",
      "[60]\ttrain-rmse:1.89619\tvalid-rmse:4.58972\ttrain-RMSE:0.349298\tvalid-RMSE:0.478649\n",
      "Stopping. Best iteration:\n",
      "[40]\ttrain-rmse:1.93618\tvalid-rmse:4.63453\ttrain-RMSE:0.349867\tvalid-RMSE:0.448821\n",
      "\n"
     ]
    }
   ],
   "source": [
    "params = {'eta': 0.2, 'max_depth': 2, 'objective': 'reg:linear', 'eval_metric': 'rmse', 'seed': 18, 'silent': True}\n",
    "\n",
    "watchlist = [(xgb.DMatrix(X_train, y_train), 'train'), (xgb.DMatrix(X_valid, y_valid), 'valid')]\n",
    "xgb_model = xgb.train(params, xgb.DMatrix(X_train, y_train), 100,  watchlist, verbose_eval=10, feval=xgb_rmse, maximize=False, early_stopping_rounds=20)\n"
   ]
  },
  {
   "cell_type": "code",
   "execution_count": 29,
   "metadata": {},
   "outputs": [],
   "source": [
    "test['item_cnt_month'] = xgb_model.predict(xgb.DMatrix(X_test), ntree_limit=xgb_model.best_ntree_limit)\n",
    "test[['ID','item_cnt_month']].to_csv('xgb_submission.csv', index=False)"
   ]
  },
  {
   "cell_type": "code",
   "execution_count": null,
   "metadata": {},
   "outputs": [],
   "source": []
  }
 ],
 "metadata": {
  "kernelspec": {
   "display_name": "Python [conda env:xgboost]",
   "language": "python",
   "name": "conda-env-xgboost-py"
  },
  "language_info": {
   "codemirror_mode": {
    "name": "ipython",
    "version": 2
   },
   "file_extension": ".py",
   "mimetype": "text/x-python",
   "name": "python",
   "nbconvert_exporter": "python",
   "pygments_lexer": "ipython2",
   "version": "2.7.14"
  }
 },
 "nbformat": 4,
 "nbformat_minor": 2
}
